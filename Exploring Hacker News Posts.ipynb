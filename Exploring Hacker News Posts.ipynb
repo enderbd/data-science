{
 "cells": [
  {
   "cell_type": "markdown",
   "metadata": {
    "collapsed": true
   },
   "source": [
    "# Looking for specific posts inside \"Hacker News\" dataset\n",
    "\n",
    "We are going to search for posts whos titles begin with \"Ask HN\" or \"Show HH\"\n",
    "\n",
    "\n",
    "- \"Ask HN\" posts are those where users are asking the HN community specific questions\n",
    "- \"Show HN\" posts show a project or a product or generally something interesting\n",
    "\n",
    "We will specifically try to do two tasks:\n",
    "1. Which type of post receives more comments on average\n",
    "2. Does post creation time have any outcome in regards to the comments amount on average.\n",
    "\n",
    "\n"
   ]
  },
  {
   "cell_type": "code",
   "execution_count": 1,
   "metadata": {
    "collapsed": false
   },
   "outputs": [
    {
     "name": "stdout",
     "output_type": "stream",
     "text": [
      "[['id', 'title', 'url', 'num_points', 'num_comments', 'author', 'created_at'], ['12224879', 'Interactive Dynamic Video', 'http://www.interactivedynamicvideo.com/', '386', '52', 'ne0phyte', '8/4/2016 11:52'], ['10975351', 'How to Use Open Source and Shut the Fuck Up at the Same Time', 'http://hueniverse.com/2016/01/26/how-to-use-open-source-and-shut-the-fuck-up-at-the-same-time/', '39', '10', 'josep2', '1/26/2016 19:30'], ['11964716', \"Florida DJs May Face Felony for April Fools' Water Joke\", 'http://www.thewire.com/entertainment/2013/04/florida-djs-april-fools-water-joke/63798/', '2', '1', 'vezycash', '6/23/2016 22:20'], ['11919867', 'Technology ventures: From Idea to Enterprise', 'https://www.amazon.com/Technology-Ventures-Enterprise-Thomas-Byers/dp/0073523429', '3', '1', 'hswarna', '6/17/2016 0:01']]\n"
     ]
    }
   ],
   "source": [
    "from csv import reader\n",
    "data_file = open(\"hacker_news.csv\")\n",
    "data_reader = reader(data_file)\n",
    "hn = list(data_reader)\n",
    "print(hn[:5])"
   ]
  },
  {
   "cell_type": "code",
   "execution_count": 2,
   "metadata": {
    "collapsed": false
   },
   "outputs": [
    {
     "name": "stdout",
     "output_type": "stream",
     "text": [
      "['id', 'title', 'url', 'num_points', 'num_comments', 'author', 'created_at']\n",
      "['12224879', 'Interactive Dynamic Video', 'http://www.interactivedynamicvideo.com/', '386', '52', 'ne0phyte', '8/4/2016 11:52']\n",
      "['10975351', 'How to Use Open Source and Shut the Fuck Up at the Same Time', 'http://hueniverse.com/2016/01/26/how-to-use-open-source-and-shut-the-fuck-up-at-the-same-time/', '39', '10', 'josep2', '1/26/2016 19:30']\n",
      "['11964716', \"Florida DJs May Face Felony for April Fools' Water Joke\", 'http://www.thewire.com/entertainment/2013/04/florida-djs-april-fools-water-joke/63798/', '2', '1', 'vezycash', '6/23/2016 22:20']\n",
      "['11919867', 'Technology ventures: From Idea to Enterprise', 'https://www.amazon.com/Technology-Ventures-Enterprise-Thomas-Byers/dp/0073523429', '3', '1', 'hswarna', '6/17/2016 0:01']\n",
      "['10301696', 'Note by Note: The Making of Steinway L1037 (2007)', 'http://www.nytimes.com/2007/11/07/movies/07stein.html?_r=0', '8', '2', 'walterbell', '9/30/2015 4:12']\n"
     ]
    }
   ],
   "source": [
    "headers = hn[0]\n",
    "hn = hn[1:]\n",
    "print(headers)\n",
    "for i in range(5):\n",
    "    print(hn[i])"
   ]
  },
  {
   "cell_type": "markdown",
   "metadata": {},
   "source": [
    "The data will be filtered in three lists of lists :\n",
    "1. ```ask_posts```\n",
    "2. ```show_posts```\n",
    "3. ```other_posts```\n"
   ]
  },
  {
   "cell_type": "code",
   "execution_count": 3,
   "metadata": {
    "collapsed": false
   },
   "outputs": [
    {
     "name": "stdout",
     "output_type": "stream",
     "text": [
      "Total entries 20100\n",
      "Ask post entries 1744\n",
      "Show post entries 1162\n",
      "Other post entries 17194\n",
      "The sum of three entries 20100\n"
     ]
    }
   ],
   "source": [
    "ask_posts = []\n",
    "show_posts = []\n",
    "other_posts = []\n",
    "\n",
    "for entry in hn:\n",
    "    title = entry[1].lower()\n",
    "    if title.startswith('ask hn'):\n",
    "        ask_posts.append(entry)\n",
    "    elif title.startswith('show hn'):\n",
    "        show_posts.append(entry)\n",
    "    else:\n",
    "        other_posts.append(entry)\n",
    "\n",
    "print('Total entries {}'.format(len(hn)))\n",
    "print('Ask post entries {}'.format(len(ask_posts)))\n",
    "print('Show post entries {}'.format(len(show_posts)))\n",
    "print('Other post entries {}'.format(len(other_posts)))\n",
    "print('The sum of three entries {}'.format(len(other_posts) + len(show_posts) + len(ask_posts)))\n"
   ]
  },
  {
   "cell_type": "code",
   "execution_count": 4,
   "metadata": {
    "collapsed": false
   },
   "outputs": [
    {
     "name": "stdout",
     "output_type": "stream",
     "text": [
      "['id', 'title', 'url', 'num_points', 'num_comments', 'author', 'created_at']\n",
      "['12296411', 'Ask HN: How to improve my personal website?', '', '2', '6', 'ahmedbaracat', '8/16/2016 9:55']\n",
      "['10610020', 'Ask HN: Am I the only one outraged by Twitter shutting down share counts?', '', '28', '29', 'tkfx', '11/22/2015 13:43']\n",
      "['11610310', 'Ask HN: Aby recent changes to CSS that broke mobile?', '', '1', '1', 'polskibus', '5/2/2016 10:14']\n",
      "['12210105', 'Ask HN: Looking for Employee #3 How do I do it?', '', '1', '3', 'sph130', '8/2/2016 14:20']\n",
      "['10394168', 'Ask HN: Someone offered to buy my browser extension from me. What now?', '', '28', '17', 'roykolak', '10/15/2015 16:38']\n",
      "['10627194', 'Show HN: Wio Link  ESP8266 Based Web of Things Hardware Development Platform', 'https://iot.seeed.cc', '26', '22', 'kfihihc', '11/25/2015 14:03']\n",
      "['10646440', 'Show HN: Something pointless I made', 'http://dn.ht/picklecat/', '747', '102', 'dhotson', '11/29/2015 22:46']\n",
      "['11590768', 'Show HN: Shanhu.io, a programming playground powered by e8vm', 'https://shanhu.io', '1', '1', 'h8liu', '4/28/2016 18:05']\n",
      "['12178806', 'Show HN: Webscope  Easy way for web developers to communicate with Clients', 'http://webscopeapp.com', '3', '3', 'fastbrick', '7/28/2016 7:11']\n",
      "['10872799', 'Show HN: GeoScreenshot  Easily test Geo-IP based web pages', 'https://www.geoscreenshot.com/', '1', '9', 'kpsychwave', '1/9/2016 20:45']\n"
     ]
    }
   ],
   "source": [
    "print(headers)\n",
    "for row in ask_posts[:5] + show_posts[:5]:\n",
    "    print(row)"
   ]
  },
  {
   "cell_type": "markdown",
   "metadata": {},
   "source": [
    "The function below will return the average number of comments for a list of posts.\n",
    "\n",
    "The column index for the number of comments is 4."
   ]
  },
  {
   "cell_type": "code",
   "execution_count": 6,
   "metadata": {
    "collapsed": true
   },
   "outputs": [],
   "source": [
    "def get_avg_comment(posts):\n",
    "    # the column index for the num comments is 4\n",
    "    total_comments = 0\n",
    "    for row in posts:\n",
    "        num_comments = int(row[4])\n",
    "        total_comments += num_comments\n",
    "    avg_comments = total_comments / len(posts)\n",
    "    return avg_comments"
   ]
  },
  {
   "cell_type": "code",
   "execution_count": 8,
   "metadata": {
    "collapsed": false
   },
   "outputs": [
    {
     "name": "stdout",
     "output_type": "stream",
     "text": [
      "Ask HN posts have an average of 14.038417431192661 comments\n",
      "Show HN posts have an average of 10.31669535283993 comments\n"
     ]
    }
   ],
   "source": [
    "print('Ask HN posts have an average of {} comments'.format(get_avg_comment(ask_posts)))\n",
    "print('Show HN posts have an average of {} comments'.format(get_avg_comment(show_posts)))"
   ]
  },
  {
   "cell_type": "markdown",
   "metadata": {},
   "source": [
    "On average, ask posts receive more comments, though not by a lot."
   ]
  },
  {
   "cell_type": "markdown",
   "metadata": {},
   "source": [
    "Next step will be to check if the post creation time has any influence on the number of comments received."
   ]
  },
  {
   "cell_type": "code",
   "execution_count": 14,
   "metadata": {
    "collapsed": true
   },
   "outputs": [],
   "source": [
    "import datetime as dt\n",
    "\n",
    "def post_per_hour(posts_list):\n",
    "    posts_comments_per_hour = {}\n",
    "    date_format = \"%m/%d/%Y %H:%M\"\n",
    "    for row in posts_list:\n",
    "        hour = dt.datetime.strptime(row[6], date_format).strftime(\"%H\")\n",
    "        num_comments = int(row[4])\n",
    "        if hour in posts_comments_per_hour:\n",
    "            posts_comments_per_hour[hour][0] += 1\n",
    "            posts_comments_per_hour[hour][1] += num_comments\n",
    "        else:\n",
    "            posts_comments_per_hour[hour] = [1, num_comments]\n",
    "            \n",
    "    return posts_comments_per_hour    "
   ]
  },
  {
   "cell_type": "code",
   "execution_count": 16,
   "metadata": {
    "collapsed": false
   },
   "outputs": [
    {
     "name": "stdout",
     "output_type": "stream",
     "text": [
      "{'05': [46, 464], '00': [55, 447], '23': [68, 543], '04': [47, 337], '11': [58, 641], '01': [60, 683], '20': [80, 1722], '13': [85, 1253], '12': [73, 687], '03': [54, 421], '07': [34, 267], '06': [44, 397], '21': [109, 1745], '15': [116, 4477], '18': [109, 1439], '22': [71, 479], '17': [100, 1146], '09': [45, 251], '08': [48, 492], '14': [107, 1416], '19': [110, 1188], '02': [58, 1381], '10': [59, 793], '16': [108, 1814]}\n"
     ]
    }
   ],
   "source": [
    "ask_posts_comments_per_hour = post_per_hour(ask_posts)\n",
    "print(ask_posts_comments_per_hour)"
   ]
  },
  {
   "cell_type": "code",
   "execution_count": 41,
   "metadata": {
    "collapsed": false
   },
   "outputs": [
    {
     "name": "stdout",
     "output_type": "stream",
     "text": [
      "At 15:00 hours there were an average of 38.59 comments / post\n",
      "At 02:00 hours there were an average of 23.81 comments / post\n",
      "At 20:00 hours there were an average of 21.52 comments / post\n",
      "At 16:00 hours there were an average of 16.80 comments / post\n",
      "At 21:00 hours there were an average of 16.01 comments / post\n"
     ]
    }
   ],
   "source": [
    "avg_per_hour = [[hour, pc[1]/pc[0]] for hour, pc in ask_posts_comments_per_hour.items()]\n",
    "avg_per_hour_sorted = sorted(avg_per_hour, key=lambda kv: kv[1], reverse=True)\n",
    "for item in avg_per_hour_sorted[:5]:\n",
    "    print('At {}:00 hours there were an average of {:.2f} comments / post'.format(item[0], item[1]))"
   ]
  },
  {
   "cell_type": "code",
   "execution_count": null,
   "metadata": {
    "collapsed": true
   },
   "outputs": [],
   "source": []
  },
  {
   "cell_type": "markdown",
   "metadata": {},
   "source": [
    "On average, ask posts posted between 15:00 and 15:59 have most comments."
   ]
  },
  {
   "cell_type": "markdown",
   "metadata": {
    "collapsed": true
   },
   "source": [
    "Lets check for show hn posts too, see if we have the same pattern."
   ]
  },
  {
   "cell_type": "code",
   "execution_count": 44,
   "metadata": {
    "collapsed": false
   },
   "outputs": [
    {
     "name": "stdout",
     "output_type": "stream",
     "text": [
      "At 18:00 hours there were an average of 15.77 comments / post\n",
      "At 00:00 hours there were an average of 15.71 comments / post\n",
      "At 14:00 hours there were an average of 13.44 comments / post\n",
      "At 23:00 hours there were an average of 12.42 comments / post\n",
      "At 22:00 hours there were an average of 12.39 comments / post\n"
     ]
    }
   ],
   "source": [
    "show_posts_comments_per_hour = post_per_hour(show_posts)\n",
    "avg_per_hour = [[hour, pc[1]/pc[0]] for hour, pc in show_posts_comments_per_hour.items()]\n",
    "avg_per_hour_sorted = sorted(avg_per_hour, key=lambda kv: kv[1], reverse=True)\n",
    "for item in avg_per_hour_sorted[:5]:\n",
    "    print('At {}:00 hours there were an average of {:.2f} comments / post'.format(item[0], item[1]))"
   ]
  },
  {
   "cell_type": "markdown",
   "metadata": {},
   "source": [
    "Looks like there is no similar pattern."
   ]
  },
  {
   "cell_type": "markdown",
   "metadata": {},
   "source": [
    "Let's check the number of points on average."
   ]
  },
  {
   "cell_type": "code",
   "execution_count": 34,
   "metadata": {
    "collapsed": true
   },
   "outputs": [],
   "source": [
    "def get_avg_points(posts):\n",
    "    # the column index for the num comments is 3\n",
    "    total_points = 0\n",
    "    for row in posts:\n",
    "        num_points = int(row[3])\n",
    "        total_points += num_points\n",
    "    return total_points / len(posts)\n"
   ]
  },
  {
   "cell_type": "code",
   "execution_count": 35,
   "metadata": {
    "collapsed": false
   },
   "outputs": [
    {
     "name": "stdout",
     "output_type": "stream",
     "text": [
      "Ask HN posts have 15.06 points on average\n",
      "Show HN posts have 27.56 points on average\n"
     ]
    }
   ],
   "source": [
    "ask_avg_points =get_avg_points(ask_posts)\n",
    "show_avg_points =get_avg_points(show_posts)\n",
    "print('Ask HN posts have {:.2f} points on average'.format(ask_avg_points))\n",
    "print('Show HN posts have {:.2f} points on average'.format(show_avg_points))"
   ]
  },
  {
   "cell_type": "markdown",
   "metadata": {},
   "source": [
    "As for the comments, we will check the hour at which a post is likely to get more points"
   ]
  },
  {
   "cell_type": "code",
   "execution_count": 37,
   "metadata": {
    "collapsed": true
   },
   "outputs": [],
   "source": [
    "def points_per_hour(posts_list):\n",
    "    posts_points_per_hour = {}\n",
    "    date_format = \"%m/%d/%Y %H:%M\"\n",
    "    for row in posts_list:\n",
    "        hour = dt.datetime.strptime(row[6], date_format).strftime(\"%H\")\n",
    "        num_points = int(row[3])\n",
    "        if hour in posts_points_per_hour:\n",
    "            posts_points_per_hour[hour][0] += 1\n",
    "            posts_points_per_hour[hour][1] += num_points\n",
    "        else:\n",
    "            posts_points_per_hour[hour] = [1, num_points]\n",
    "            \n",
    "    return posts_points_per_hour "
   ]
  },
  {
   "cell_type": "code",
   "execution_count": 45,
   "metadata": {
    "collapsed": false
   },
   "outputs": [
    {
     "name": "stdout",
     "output_type": "stream",
     "text": [
      "At 15:00 hours there were an average of 29.99 points / ask post\n",
      "At 13:00 hours there were an average of 24.26 points / ask post\n",
      "At 16:00 hours there were an average of 23.35 points / ask post\n",
      "At 17:00 hours there were an average of 19.41 points / ask post\n",
      "At 10:00 hours there were an average of 18.68 points / ask post\n",
      "----------------\n",
      "At 23:00 hours there were an average of 42.39 points / show post\n",
      "At 12:00 hours there were an average of 41.69 points / show post\n",
      "At 22:00 hours there were an average of 40.35 points / show post\n",
      "At 00:00 hours there were an average of 37.84 points / show post\n",
      "At 18:00 hours there were an average of 36.31 points / show post\n"
     ]
    }
   ],
   "source": [
    "ask_points_per_hour = points_per_hour(ask_posts)\n",
    "show_points_per_hour = points_per_hour(show_posts)\n",
    "\n",
    "avg_per_hour = [[hour, pc[1]/pc[0]] for hour, pc in ask_points_per_hour.items()]\n",
    "avg_per_hour_sorted = sorted(avg_per_hour, key=lambda kv: kv[1], reverse=True)\n",
    "for item in avg_per_hour_sorted[:5]:\n",
    "    print('At {}:00 hours there were an average of {:.2f} points / ask post'.format(item[0], item[1]))\n",
    "print('----------------')\n",
    "avg_per_hour = [[hour, pc[1]/pc[0]] for hour, pc in show_points_per_hour.items()]\n",
    "avg_per_hour_sorted = sorted(avg_per_hour, key=lambda kv: kv[1], reverse=True)\n",
    "for item in avg_per_hour_sorted[:5]:\n",
    "    print('At {}:00 hours there were an average of {:.2f} points / show post'.format(item[0], item[1]))"
   ]
  },
  {
   "cell_type": "markdown",
   "metadata": {},
   "source": [
    "# Conclusion\n",
    "\n",
    "In order to get the maximum response, it seems that between the \"Show HN\" and \"Ask HN\" posts, it should be an \"Ask HN\" post and that it should be posted between 15:00 and 15:59 in order to get the most comments on average.\n",
    "\n",
    "On average, Show Hn posts got more points, almost double than Ask HN, with the most on average being given for posts from 23:00 to 23:59.\n",
    "\n",
    "Looks like there is no corelation for Show HN posts between the number of comments on average and the number of points, but for the Ask Hn there is."
   ]
  }
 ],
 "metadata": {
  "kernelspec": {
   "display_name": "Python 3",
   "language": "python",
   "name": "python3"
  },
  "language_info": {
   "codemirror_mode": {
    "name": "ipython",
    "version": 3
   },
   "file_extension": ".py",
   "mimetype": "text/x-python",
   "name": "python",
   "nbconvert_exporter": "python",
   "pygments_lexer": "ipython3",
   "version": "3.4.3"
  }
 },
 "nbformat": 4,
 "nbformat_minor": 2
}
