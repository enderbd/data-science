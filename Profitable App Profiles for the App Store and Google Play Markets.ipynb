{
 "cells": [
  {
   "cell_type": "markdown",
   "metadata": {},
   "source": [
    "# Info about profitable apps on AppStore and Google Play Markets\n",
    "\n",
    "The purpose of this test is to find the profitable apps on App Store and Google Play.\n",
    "\n",
    "We are looking only at the free apps and in English."
   ]
  },
  {
   "cell_type": "code",
   "execution_count": 1,
   "metadata": {
    "collapsed": false
   },
   "outputs": [],
   "source": [
    "from csv import reader\n",
    "\n",
    "# Import App Store Data\n",
    "data_file = open('AppleStore.csv')\n",
    "data_read = reader(data_file)\n",
    "app_store_all = list(data_read)\n",
    "app_store_header = app_store_all[0]\n",
    "app_store = app_store_all[1:]\n",
    "\n",
    "# Import Google Play Data\n",
    "data_file = open('googleplaystore.csv')\n",
    "data_read = reader(data_file)\n",
    "gplay_data = list(data_read)\n",
    "gplay_header = gplay_data[0]\n",
    "gplay = gplay_data[1:]"
   ]
  },
  {
   "cell_type": "markdown",
   "metadata": {},
   "source": [
    "Below is the helper function `explore_data` which can be used to repeatedly  print rows in a more readable way.\n",
    "\n",
    "The function also can return the number of rows and columns\n",
    "\n",
    "Parameters:\n",
    "- `dataset` - the data set as a list of lists read from the csv file\n",
    "- `start` - int, start row\n",
    "- `end` - int, end row\n",
    "- `rows_and_columns` - bool, flag to signal if we want the function to return the number of rows and column also. Default **False** \n"
   ]
  },
  {
   "cell_type": "code",
   "execution_count": 2,
   "metadata": {
    "collapsed": true
   },
   "outputs": [],
   "source": [
    "def explore_data(dataset, start, end, rows_and_columns=False):\n",
    "    dataset_slice = dataset[start:end]    \n",
    "    for row in dataset_slice:\n",
    "        print(row)\n",
    "        print('\\n') # adds a new (empty) line after each rowb\n",
    "\n",
    "    if rows_and_columns:\n",
    "        print('Number of rows:', len(dataset))\n",
    "        print('Number of columns:', len(dataset[0]))"
   ]
  },
  {
   "cell_type": "code",
   "execution_count": 3,
   "metadata": {
    "collapsed": false
   },
   "outputs": [
    {
     "name": "stdout",
     "output_type": "stream",
     "text": [
      "['id', 'track_name', 'size_bytes', 'currency', 'price', 'rating_count_tot', 'rating_count_ver', 'user_rating', 'user_rating_ver', 'ver', 'cont_rating', 'prime_genre', 'sup_devices.num', 'ipadSc_urls.num', 'lang.num', 'vpp_lic']\n",
      "\n",
      "\n",
      "['284882215', 'Facebook', '389879808', 'USD', '0.0', '2974676', '212', '3.5', '3.5', '95.0', '4+', 'Social Networking', '37', '1', '29', '1']\n",
      "\n",
      "\n",
      "['389801252', 'Instagram', '113954816', 'USD', '0.0', '2161558', '1289', '4.5', '4.0', '10.23', '12+', 'Photo & Video', '37', '0', '29', '1']\n",
      "\n",
      "\n",
      "['529479190', 'Clash of Clans', '116476928', 'USD', '0.0', '2130805', '579', '4.5', '4.5', '9.24.12', '9+', 'Games', '38', '5', '18', '1']\n",
      "\n",
      "\n",
      "Number of rows: 7197\n",
      "Number of columns: 16\n"
     ]
    }
   ],
   "source": [
    "print(app_store_header)\n",
    "print('\\n')\n",
    "explore_data(app_store, 0, 3, 1)"
   ]
  },
  {
   "cell_type": "code",
   "execution_count": 4,
   "metadata": {
    "collapsed": false
   },
   "outputs": [
    {
     "name": "stdout",
     "output_type": "stream",
     "text": [
      "['App', 'Category', 'Rating', 'Reviews', 'Size', 'Installs', 'Type', 'Price', 'Content Rating', 'Genres', 'Last Updated', 'Current Ver', 'Android Ver']\n",
      "\n",
      "\n",
      "['Photo Editor & Candy Camera & Grid & ScrapBook', 'ART_AND_DESIGN', '4.1', '159', '19M', '10,000+', 'Free', '0', 'Everyone', 'Art & Design', 'January 7, 2018', '1.0.0', '4.0.3 and up']\n",
      "\n",
      "\n",
      "['Coloring book moana', 'ART_AND_DESIGN', '3.9', '967', '14M', '500,000+', 'Free', '0', 'Everyone', 'Art & Design;Pretend Play', 'January 15, 2018', '2.0.0', '4.0.3 and up']\n",
      "\n",
      "\n",
      "['U Launcher Lite – FREE Live Cool Themes, Hide Apps', 'ART_AND_DESIGN', '4.7', '87510', '8.7M', '5,000,000+', 'Free', '0', 'Everyone', 'Art & Design', 'August 1, 2018', '1.2.4', '4.0.3 and up']\n",
      "\n",
      "\n",
      "Number of rows: 10841\n",
      "Number of columns: 13\n"
     ]
    }
   ],
   "source": [
    "print(gplay_header)\n",
    "print('\\n')\n",
    "explore_data(gplay, 0, 3, 1)"
   ]
  },
  {
   "cell_type": "code",
   "execution_count": 5,
   "metadata": {
    "collapsed": false
   },
   "outputs": [
    {
     "name": "stdout",
     "output_type": "stream",
     "text": [
      "['App', 'Category', 'Rating', 'Reviews', 'Size', 'Installs', 'Type', 'Price', 'Content Rating', 'Genres', 'Last Updated', 'Current Ver', 'Android Ver']\n",
      "\n",
      "\n",
      "[('App', 'Photo Editor & Candy Camera & Grid & ScrapBook'), ('Category', 'ART_AND_DESIGN'), ('Rating', '4.1'), ('Reviews', '159'), ('Size', '19M'), ('Installs', '10,000+'), ('Type', 'Free'), ('Price', '0'), ('Content Rating', 'Everyone'), ('Genres', 'Art & Design'), ('Last Updated', 'January 7, 2018'), ('Current Ver', '1.0.0'), ('Android Ver', '4.0.3 and up')]\n",
      "\n",
      "\n",
      "[('App', 'Life Made WI-Fi Touchscreen Photo Frame'), ('Category', '1.9'), ('Rating', '19'), ('Reviews', '3.0M'), ('Size', '1,000+'), ('Installs', 'Free'), ('Type', '0'), ('Price', 'Everyone'), ('Content Rating', ''), ('Genres', 'February 11, 2018'), ('Last Updated', '1.0.19'), ('Current Ver', '4.0 and up')]\n"
     ]
    }
   ],
   "source": [
    "print(gplay_header)\n",
    "print('\\n')\n",
    "#explore_data(gplay, 10472, 10474)\n",
    "\n",
    "print(list(zip(gplay_header, gplay[0])))\n",
    "print('\\n')\n",
    "print(list(zip(gplay_header, gplay[10472])))\n"
   ]
  },
  {
   "cell_type": "markdown",
   "metadata": {},
   "source": [
    "Above we can see that at index 10472 the information for 'Life Made WI-Fi Touchscreen Photo Frame' is innacurate making the index entry uselss, needs to be removed."
   ]
  },
  {
   "cell_type": "code",
   "execution_count": 6,
   "metadata": {
    "collapsed": true
   },
   "outputs": [],
   "source": [
    "if len(gplay) >= 10472:\n",
    "    gplay.pop(10472)\n",
    "else:    \n",
    "    print(\"Index Out of Range\") "
   ]
  },
  {
   "cell_type": "code",
   "execution_count": 7,
   "metadata": {
    "collapsed": false
   },
   "outputs": [
    {
     "name": "stdout",
     "output_type": "stream",
     "text": [
      "We have duplicates\n"
     ]
    }
   ],
   "source": [
    "app_names = []\n",
    "for app in app_store:\n",
    "    name = app[1]\n",
    "    app_names.append(name)\n",
    "\n",
    "if len(app_names) == len(set(app_names)):\n",
    "    print('No duplicates')\n",
    "else:\n",
    "    print('We have duplicates')"
   ]
  },
  {
   "cell_type": "markdown",
   "metadata": {},
   "source": [
    "Seems that some apps are duplicated. \n",
    "\n",
    "We will build a function that checks for duplicated apps, based on the app name ( index 0 for google play)"
   ]
  },
  {
   "cell_type": "code",
   "execution_count": 8,
   "metadata": {
    "collapsed": true
   },
   "outputs": [],
   "source": [
    "def has_name_duplicates(data_set, name_index):\n",
    "    app_names = []\n",
    "    \n",
    "    for app in data_set:\n",
    "        name = app[name_index]\n",
    "        app_names.append(name)\n",
    "        \n",
    "    if len(app_names) == len(set(app_names)):\n",
    "        return False\n",
    "    else:\n",
    "        return True"
   ]
  },
  {
   "cell_type": "code",
   "execution_count": 9,
   "metadata": {
    "collapsed": false,
    "scrolled": false
   },
   "outputs": [
    {
     "name": "stdout",
     "output_type": "stream",
     "text": [
      "True\n",
      "True\n"
     ]
    }
   ],
   "source": [
    "#has_name_duplicates(gplay, 0)\n",
    "print(has_name_duplicates(app_store, 1))\n",
    "print(has_name_duplicates(gplay, 0))\n"
   ]
  },
  {
   "cell_type": "code",
   "execution_count": 10,
   "metadata": {
    "collapsed": true
   },
   "outputs": [],
   "source": [
    "def get_duplicates(data_set, name_index):\n",
    "    duplicated_apps = []\n",
    "    unique_apps = []\n",
    "\n",
    "    for app in data_set:\n",
    "        name = app[name_index]\n",
    "        if name in unique_apps:\n",
    "            duplicated_apps.append(name)\n",
    "        else:\n",
    "            unique_apps.append(name)\n",
    "\n",
    "    return duplicated_apps"
   ]
  },
  {
   "cell_type": "code",
   "execution_count": 11,
   "metadata": {
    "collapsed": false
   },
   "outputs": [
    {
     "name": "stdout",
     "output_type": "stream",
     "text": [
      "['Mannequin Challenge', 'VR Roller Coaster']\n"
     ]
    }
   ],
   "source": [
    "print(get_duplicates(app_store,1))"
   ]
  },
  {
   "cell_type": "code",
   "execution_count": 12,
   "metadata": {
    "collapsed": false
   },
   "outputs": [
    {
     "name": "stdout",
     "output_type": "stream",
     "text": [
      "[('id', '1173990889'), ('track_name', 'Mannequin Challenge'), ('size_bytes', '109705216'), ('currency', 'USD'), ('price', '0.0'), ('rating_count_tot', '668'), ('rating_count_ver', '87'), ('user_rating', '3.0'), ('user_rating_ver', '3.0'), ('ver', '1.4'), ('cont_rating', '9+'), ('prime_genre', 'Games'), ('sup_devices.num', '37'), ('ipadSc_urls.num', '4'), ('lang.num', '1'), ('vpp_lic', '1')]\n",
      "2948\n",
      "[('id', '952877179'), ('track_name', 'VR Roller Coaster'), ('size_bytes', '169523200'), ('currency', 'USD'), ('price', '0.0'), ('rating_count_tot', '107'), ('rating_count_ver', '102'), ('user_rating', '3.5'), ('user_rating_ver', '3.5'), ('ver', '2.0.0'), ('cont_rating', '4+'), ('prime_genre', 'Games'), ('sup_devices.num', '37'), ('ipadSc_urls.num', '5'), ('lang.num', '1'), ('vpp_lic', '1')]\n",
      "4442\n",
      "[('id', '1178454060'), ('track_name', 'Mannequin Challenge'), ('size_bytes', '59572224'), ('currency', 'USD'), ('price', '0.0'), ('rating_count_tot', '105'), ('rating_count_ver', '58'), ('user_rating', '4.0'), ('user_rating_ver', '4.5'), ('ver', '1.0.1'), ('cont_rating', '4+'), ('prime_genre', 'Games'), ('sup_devices.num', '38'), ('ipadSc_urls.num', '5'), ('lang.num', '1'), ('vpp_lic', '1')]\n",
      "4463\n",
      "[('id', '1089824278'), ('track_name', 'VR Roller Coaster'), ('size_bytes', '240964608'), ('currency', 'USD'), ('price', '0.0'), ('rating_count_tot', '67'), ('rating_count_ver', '44'), ('user_rating', '3.5'), ('user_rating_ver', '4.0'), ('ver', '0.81'), ('cont_rating', '4+'), ('prime_genre', 'Games'), ('sup_devices.num', '38'), ('ipadSc_urls.num', '0'), ('lang.num', '1'), ('vpp_lic', '1')]\n",
      "4831\n"
     ]
    }
   ],
   "source": [
    "for app in app_store:\n",
    "    name = app[1]\n",
    "    if name == 'Mannequin Challenge' or name == 'VR Roller Coaster' :\n",
    "        print(list(zip(app_store_header,app)))\n",
    "        print(app_store.index(app))"
   ]
  },
  {
   "cell_type": "markdown",
   "metadata": {},
   "source": [
    "Since we had only two duplicated apps in the app store, it's relativly easy to compare them. It seems they are meant to be different apps, maybe running on different iPads ."
   ]
  },
  {
   "cell_type": "code",
   "execution_count": 13,
   "metadata": {
    "collapsed": false
   },
   "outputs": [
    {
     "name": "stdout",
     "output_type": "stream",
     "text": [
      "1181\n"
     ]
    }
   ],
   "source": [
    "print(len(get_duplicates(gplay,0)))"
   ]
  },
  {
   "cell_type": "markdown",
   "metadata": {},
   "source": [
    "We have a lot of dupicated apps in Google Play, more precise 1181. We will print a slice and check the differences for one."
   ]
  },
  {
   "cell_type": "code",
   "execution_count": 14,
   "metadata": {
    "collapsed": false
   },
   "outputs": [
    {
     "name": "stdout",
     "output_type": "stream",
     "text": [
      "['Quick PDF Scanner + OCR FREE', 'Box', 'Google My Business', 'ZOOM Cloud Meetings', 'join.me - Simple Meetings']\n"
     ]
    }
   ],
   "source": [
    "duplicated_apps = get_duplicates(gplay,0)\n",
    "print(duplicated_apps[:5])"
   ]
  },
  {
   "cell_type": "code",
   "execution_count": 15,
   "metadata": {
    "collapsed": false
   },
   "outputs": [
    {
     "name": "stdout",
     "output_type": "stream",
     "text": [
      "[('App', 'Google My Business'), ('Category', 'BUSINESS'), ('Rating', '4.4'), ('Reviews', '70991'), ('Size', 'Varies with device'), ('Installs', '5,000,000+'), ('Type', 'Free'), ('Price', '0'), ('Content Rating', 'Everyone'), ('Genres', 'Business'), ('Last Updated', 'July 24, 2018'), ('Current Ver', '2.19.0.204537701'), ('Android Ver', '4.4 and up')]\n",
      "193\n",
      "[('App', 'Google My Business'), ('Category', 'BUSINESS'), ('Rating', '4.4'), ('Reviews', '70991'), ('Size', 'Varies with device'), ('Installs', '5,000,000+'), ('Type', 'Free'), ('Price', '0'), ('Content Rating', 'Everyone'), ('Genres', 'Business'), ('Last Updated', 'July 24, 2018'), ('Current Ver', '2.19.0.204537701'), ('Android Ver', '4.4 and up')]\n",
      "193\n",
      "[('App', 'Google My Business'), ('Category', 'BUSINESS'), ('Rating', '4.4'), ('Reviews', '70991'), ('Size', 'Varies with device'), ('Installs', '5,000,000+'), ('Type', 'Free'), ('Price', '0'), ('Content Rating', 'Everyone'), ('Genres', 'Business'), ('Last Updated', 'July 24, 2018'), ('Current Ver', '2.19.0.204537701'), ('Android Ver', '4.4 and up')]\n",
      "193\n"
     ]
    }
   ],
   "source": [
    "for app in gplay:\n",
    "    name = app[0]\n",
    "    if name == 'Google My Business':\n",
    "        print(list(zip(gplay_header,app)))\n",
    "        print(gplay.index(app))"
   ]
  },
  {
   "cell_type": "markdown",
   "metadata": {},
   "source": [
    "Based on the data, the only difference between the duplicated rows / apps is the number of reviews. \n",
    "\n",
    "We need a clean version of google play apps list. Makes sense to keep the duplicated verions with the highest amount of reviews. "
   ]
  },
  {
   "cell_type": "code",
   "execution_count": 16,
   "metadata": {
    "collapsed": true
   },
   "outputs": [],
   "source": [
    "def clean_duplicates(data_set, name_index, reviews_index):\n",
    "    review_max = {}\n",
    "    for i in range(len(data_set)):\n",
    "        name = data_set[i][name_index]\n",
    "        review = float(data_set[i][reviews_index])\n",
    "\n",
    "        if name in review_max:\n",
    "            if review_max[name][0] < review:\n",
    "                review_max[name][0] = review\n",
    "                review_max[name][1] = i\n",
    "        else:\n",
    "            review_max[name] = [review, i]\n",
    "\n",
    "    clean_apps = []\n",
    "    for name in review_max:\n",
    "        clean_apps.append(data_set[review_max[name][1]])\n",
    "\n",
    "    return clean_apps"
   ]
  },
  {
   "cell_type": "code",
   "execution_count": 17,
   "metadata": {
    "collapsed": false
   },
   "outputs": [
    {
     "name": "stdout",
     "output_type": "stream",
     "text": [
      "9659\n",
      "1181\n"
     ]
    }
   ],
   "source": [
    "gplay_clean = clean_duplicates(gplay, 0, 3)\n",
    "print(len(gplay_clean))\n",
    "print(len(gplay) - len(gplay_clean))"
   ]
  },
  {
   "cell_type": "markdown",
   "metadata": {
    "collapsed": true
   },
   "source": [
    "We calculated above the number of duplicates and if we make the difference between the original data set and the cleaned one, we get the same number.\n",
    "\n",
    "We have now a clean version of the google play apps,`gplay_clean` , without duplicates."
   ]
  },
  {
   "cell_type": "markdown",
   "metadata": {},
   "source": [
    "-------------------------------\n",
    "-------------------------------"
   ]
  },
  {
   "cell_type": "markdown",
   "metadata": {},
   "source": [
    "# Get English Apps only\n",
    "We want to filter out non English application. We should get most of them by checking if the chars in the string name are in the ASCII range 0-127.\n",
    "\n",
    "Some English names may contain non English so to compensate we allow 3 chars outside the range above."
   ]
  },
  {
   "cell_type": "code",
   "execution_count": 18,
   "metadata": {
    "collapsed": true
   },
   "outputs": [],
   "source": [
    "def is_english(name):\n",
    "    non_english = 0\n",
    "    for ch in name:\n",
    "        if ord(ch) > 127:\n",
    "            if non_english < 3:\n",
    "                non_english += 1\n",
    "            else:\n",
    "                return False\n",
    "        \n",
    "    return True"
   ]
  },
  {
   "cell_type": "code",
   "execution_count": 19,
   "metadata": {
    "collapsed": false
   },
   "outputs": [
    {
     "name": "stdout",
     "output_type": "stream",
     "text": [
      "爱奇艺PPS -《欢乐颂2》电视剧热播 False\n",
      "Mannequin Challenge True\n",
      "Job Korea - Career Jobs True\n",
      "Bubble Shooter DX AdFree True\n"
     ]
    }
   ],
   "source": [
    "test_name = app_store[813][1]\n",
    "print(test_name, is_english(test_name))\n",
    "test_name = app_store[2948][1]\n",
    "print(test_name, is_english(test_name))\n",
    "\n",
    "test_name = gplay_clean[0][0]\n",
    "print(test_name, is_english(test_name))\n",
    "test_name = gplay_clean[1][0]\n",
    "print(test_name, is_english(test_name))\n"
   ]
  },
  {
   "cell_type": "code",
   "execution_count": 20,
   "metadata": {
    "collapsed": true
   },
   "outputs": [],
   "source": [
    "def remove_non_english(data_set, name_index):\n",
    "    english_app = []\n",
    "    for app in data_set:\n",
    "        name = app[name_index]\n",
    "        if is_english(name):\n",
    "            english_app.append(app)\n",
    "    \n",
    "    return english_app"
   ]
  },
  {
   "cell_type": "code",
   "execution_count": 21,
   "metadata": {
    "collapsed": false
   },
   "outputs": [
    {
     "name": "stdout",
     "output_type": "stream",
     "text": [
      "7197 6183\n"
     ]
    }
   ],
   "source": [
    "app_store_english = remove_non_english(app_store, 1)\n",
    "print(len(app_store), len(app_store_english))"
   ]
  },
  {
   "cell_type": "code",
   "execution_count": 22,
   "metadata": {
    "collapsed": false
   },
   "outputs": [
    {
     "name": "stdout",
     "output_type": "stream",
     "text": [
      "10840 9659 9614\n"
     ]
    }
   ],
   "source": [
    "gplay_english = remove_non_english(gplay_clean, 0)\n",
    "print(len(gplay), len(gplay_clean), len(gplay_english))"
   ]
  },
  {
   "cell_type": "markdown",
   "metadata": {},
   "source": [
    "# Get the Free English Apps\n",
    "Next step is to filter the free application. We go over the data set and filter only the apps with the price 0.\n",
    "\n",
    "App Store has 0.0 to show it's free, while Google Play has 0"
   ]
  },
  {
   "cell_type": "code",
   "execution_count": 23,
   "metadata": {
    "collapsed": true
   },
   "outputs": [],
   "source": [
    "def get_free_app(data_set, price_index, price_string):\n",
    "    free_apps = []\n",
    "    for app in data_set:\n",
    "        price = app[price_index]\n",
    "        if price == price_string:\n",
    "            free_apps.append(app)\n",
    "    return free_apps"
   ]
  },
  {
   "cell_type": "code",
   "execution_count": 24,
   "metadata": {
    "collapsed": false
   },
   "outputs": [
    {
     "name": "stdout",
     "output_type": "stream",
     "text": [
      "6183 3222\n",
      "\n",
      "\n"
     ]
    }
   ],
   "source": [
    "app_store_free = get_free_app(app_store_english, 4, '0.0')\n",
    "print(len(app_store_english), len(app_store_free))\n",
    "print(\"\\n\")"
   ]
  },
  {
   "cell_type": "markdown",
   "metadata": {},
   "source": [
    "A bit over half of the english apps in the App Store are free"
   ]
  },
  {
   "cell_type": "code",
   "execution_count": 25,
   "metadata": {
    "collapsed": false
   },
   "outputs": [
    {
     "name": "stdout",
     "output_type": "stream",
     "text": [
      "9614 8864\n"
     ]
    }
   ],
   "source": [
    "gplay_free = get_free_app(gplay_english, 7, '0')\n",
    "print(len(gplay_english), len(gplay_free))"
   ]
  },
  {
   "cell_type": "markdown",
   "metadata": {},
   "source": [
    "Almost all the English apps in Google Play are free"
   ]
  },
  {
   "cell_type": "markdown",
   "metadata": {},
   "source": [
    "# Filter by Genre\n",
    "Next step we can try is to have a look at the applications genres and see if there is one doing well in both stores.\n",
    "We will create a function that returns the frequency table for any desired column index."
   ]
  },
  {
   "cell_type": "code",
   "execution_count": 26,
   "metadata": {
    "collapsed": true
   },
   "outputs": [],
   "source": [
    "def get_freq_table(data_set, index):\n",
    "    total_apps = len(data_set)\n",
    "    freq_table = {}\n",
    "    for app in data_set:\n",
    "        val = app[index]\n",
    "        if val in freq_table:\n",
    "            freq_table[val] += 1\n",
    "        else:\n",
    "            freq_table[val] = 1\n",
    "    \n",
    "    return freq_table"
   ]
  },
  {
   "cell_type": "code",
   "execution_count": 27,
   "metadata": {
    "collapsed": true
   },
   "outputs": [],
   "source": [
    "def print_freq_table(data_set, index, pc = 1):\n",
    "    freq_table = get_freq_table(data_set, index)\n",
    "    sorted_table = sorted(freq_table.items(), key=lambda kv: kv[1], reverse=True)\n",
    "    total_apps = len(data_set)\n",
    "    for pair in sorted_table:\n",
    "        if pc:\n",
    "            print(pair[0] + ' : ' +  str((pair[1] / total_apps) * 100))\n",
    "        else:\n",
    "            print(pair[0] + ' : ' + str(pair[1]))"
   ]
  },
  {
   "cell_type": "code",
   "execution_count": 28,
   "metadata": {
    "collapsed": false
   },
   "outputs": [
    {
     "name": "stdout",
     "output_type": "stream",
     "text": [
      "Games : 58.16263190564867\n",
      "Entertainment : 7.883302296710118\n",
      "Photo & Video : 4.9658597144630665\n",
      "Education : 3.662321539416512\n",
      "Social Networking : 3.2898820608317814\n",
      "Shopping : 2.60707635009311\n",
      "Utilities : 2.5139664804469275\n",
      "Sports : 2.1415270018621975\n",
      "Music : 2.0484171322160147\n",
      "Health & Fitness : 2.0173805090006205\n",
      "Productivity : 1.7380509000620732\n",
      "Lifestyle : 1.5828677839851024\n",
      "News : 1.3345747982619491\n",
      "Travel : 1.2414649286157666\n",
      "Finance : 1.1173184357541899\n",
      "Weather : 0.8690254500310366\n",
      "Food & Drink : 0.8069522036002483\n",
      "Reference : 0.5586592178770949\n",
      "Business : 0.5276225946617008\n",
      "Book : 0.4345127250155183\n",
      "Navigation : 0.186219739292365\n",
      "Medical : 0.186219739292365\n",
      "Catalogs : 0.12414649286157665\n"
     ]
    }
   ],
   "source": [
    "print_freq_table(app_store_free, -5)"
   ]
  },
  {
   "cell_type": "markdown",
   "metadata": {},
   "source": [
    "Most encountered genre is for the App Store is Games, and overall its the entertainment categories that dominate( games, entertainment, photo video)\n",
    "\n",
    "Let's check the Google Play. In this case there are two potential keys: Categories (index 1) and Genres ( index -4) . We will check for each to see the difference"
   ]
  },
  {
   "cell_type": "code",
   "execution_count": 29,
   "metadata": {
    "collapsed": false
   },
   "outputs": [
    {
     "name": "stdout",
     "output_type": "stream",
     "text": [
      "FAMILY : 18.907942238267147\n",
      "GAME : 9.724729241877256\n",
      "TOOLS : 8.461191335740072\n",
      "BUSINESS : 4.591606498194946\n",
      "LIFESTYLE : 3.9034296028880866\n",
      "PRODUCTIVITY : 3.892148014440433\n",
      "FINANCE : 3.7003610108303246\n",
      "MEDICAL : 3.531137184115524\n",
      "SPORTS : 3.395758122743682\n",
      "PERSONALIZATION : 3.3167870036101084\n",
      "COMMUNICATION : 3.2378158844765346\n",
      "HEALTH_AND_FITNESS : 3.0798736462093865\n",
      "PHOTOGRAPHY : 2.944494584837545\n",
      "NEWS_AND_MAGAZINES : 2.7978339350180503\n",
      "SOCIAL : 2.6624548736462095\n",
      "TRAVEL_AND_LOCAL : 2.33528880866426\n",
      "SHOPPING : 2.2450361010830324\n",
      "BOOKS_AND_REFERENCE : 2.1435018050541514\n",
      "DATING : 1.861462093862816\n",
      "VIDEO_PLAYERS : 1.7937725631768955\n",
      "MAPS_AND_NAVIGATION : 1.3989169675090252\n",
      "FOOD_AND_DRINK : 1.2409747292418771\n",
      "EDUCATION : 1.1620036101083033\n",
      "ENTERTAINMENT : 0.9589350180505415\n",
      "LIBRARIES_AND_DEMO : 0.9363718411552346\n",
      "AUTO_AND_VEHICLES : 0.9250902527075812\n",
      "HOUSE_AND_HOME : 0.8235559566787004\n",
      "WEATHER : 0.8009927797833934\n",
      "EVENTS : 0.7107400722021661\n",
      "PARENTING : 0.6543321299638989\n",
      "ART_AND_DESIGN : 0.6430505415162455\n",
      "COMICS : 0.6204873646209386\n",
      "BEAUTY : 0.5979241877256317\n"
     ]
    }
   ],
   "source": [
    "print_freq_table(gplay_free, 1)"
   ]
  },
  {
   "cell_type": "markdown",
   "metadata": {},
   "source": [
    "Looking over the result using the 'Category' as the key we see there is a Games too here, but with a way way lower frequency compared to the App Store.\n",
    "\n",
    "Based on this indicator, the Family category is the best, but it's unclear though what specific type, they can be games that could be played together, or educational apps.\n",
    "\n",
    "We can have a look for Google Play at the frequencey of the other key, :"
   ]
  },
  {
   "cell_type": "code",
   "execution_count": 30,
   "metadata": {
    "collapsed": false
   },
   "outputs": [
    {
     "name": "stdout",
     "output_type": "stream",
     "text": [
      "Tools : 8.449909747292418\n",
      "Entertainment : 6.069494584837545\n",
      "Education : 5.347472924187725\n",
      "Business : 4.591606498194946\n",
      "Productivity : 3.892148014440433\n",
      "Lifestyle : 3.892148014440433\n",
      "Finance : 3.7003610108303246\n",
      "Medical : 3.531137184115524\n",
      "Sports : 3.463447653429603\n",
      "Personalization : 3.3167870036101084\n",
      "Communication : 3.2378158844765346\n",
      "Action : 3.1024368231046933\n",
      "Health & Fitness : 3.0798736462093865\n",
      "Photography : 2.944494584837545\n",
      "News & Magazines : 2.7978339350180503\n",
      "Social : 2.6624548736462095\n",
      "Travel & Local : 2.3240072202166067\n",
      "Shopping : 2.2450361010830324\n",
      "Books & Reference : 2.1435018050541514\n",
      "Simulation : 2.0419675090252705\n",
      "Dating : 1.861462093862816\n",
      "Arcade : 1.8501805054151623\n",
      "Video Players & Editors : 1.7712093862815883\n",
      "Casual : 1.7599277978339352\n",
      "Maps & Navigation : 1.3989169675090252\n",
      "Food & Drink : 1.2409747292418771\n",
      "Puzzle : 1.128158844765343\n",
      "Racing : 0.9927797833935018\n",
      "Libraries & Demo : 0.9363718411552346\n",
      "Role Playing : 0.9363718411552346\n",
      "Auto & Vehicles : 0.9250902527075812\n",
      "Strategy : 0.9138086642599278\n",
      "House & Home : 0.8235559566787004\n",
      "Weather : 0.8009927797833934\n",
      "Events : 0.7107400722021661\n",
      "Adventure : 0.6768953068592057\n",
      "Comics : 0.6092057761732852\n",
      "Art & Design : 0.5979241877256317\n",
      "Beauty : 0.5979241877256317\n",
      "Parenting : 0.4963898916967509\n",
      "Card : 0.45126353790613716\n",
      "Casino : 0.42870036101083037\n",
      "Trivia : 0.41741877256317694\n",
      "Educational;Education : 0.39485559566787\n",
      "Board : 0.3835740072202166\n",
      "Educational : 0.3722924187725632\n",
      "Education;Education : 0.33844765342960287\n",
      "Word : 0.2594765342960289\n",
      "Casual;Pretend Play : 0.236913357400722\n",
      "Music : 0.2030685920577617\n",
      "Racing;Action & Adventure : 0.16922382671480143\n",
      "Puzzle;Brain Games : 0.16922382671480143\n",
      "Entertainment;Music & Video : 0.16922382671480143\n",
      "Casual;Action & Adventure : 0.13537906137184114\n",
      "Casual;Brain Games : 0.13537906137184114\n",
      "Arcade;Action & Adventure : 0.12409747292418773\n",
      "Action;Action & Adventure : 0.10153429602888085\n",
      "Educational;Pretend Play : 0.09025270758122744\n",
      "Entertainment;Brain Games : 0.078971119133574\n",
      "Board;Brain Games : 0.078971119133574\n",
      "Simulation;Action & Adventure : 0.078971119133574\n",
      "Parenting;Education : 0.078971119133574\n",
      "Art & Design;Creativity : 0.06768953068592057\n",
      "Casual;Creativity : 0.06768953068592057\n",
      "Educational;Brain Games : 0.06768953068592057\n",
      "Parenting;Music & Video : 0.06768953068592057\n",
      "Education;Pretend Play : 0.056407942238267145\n",
      "Role Playing;Pretend Play : 0.04512635379061372\n",
      "Education;Creativity : 0.04512635379061372\n",
      "Education;Brain Games : 0.033844765342960284\n",
      "Education;Music & Video : 0.033844765342960284\n",
      "Educational;Creativity : 0.033844765342960284\n",
      "Educational;Action & Adventure : 0.033844765342960284\n",
      "Role Playing;Action & Adventure : 0.033844765342960284\n",
      "Education;Action & Adventure : 0.033844765342960284\n",
      "Adventure;Action & Adventure : 0.033844765342960284\n",
      "Puzzle;Action & Adventure : 0.033844765342960284\n",
      "Entertainment;Creativity : 0.033844765342960284\n",
      "Entertainment;Action & Adventure : 0.033844765342960284\n",
      "Board;Action & Adventure : 0.02256317689530686\n",
      "Entertainment;Pretend Play : 0.02256317689530686\n",
      "Sports;Action & Adventure : 0.02256317689530686\n",
      "Casual;Education : 0.02256317689530686\n",
      "Puzzle;Creativity : 0.02256317689530686\n",
      "Video Players & Editors;Music & Video : 0.02256317689530686\n",
      "Simulation;Pretend Play : 0.02256317689530686\n",
      "Music;Music & Video : 0.02256317689530686\n",
      "Adventure;Education : 0.01128158844765343\n",
      "Health & Fitness;Education : 0.01128158844765343\n",
      "Music & Audio;Music & Video : 0.01128158844765343\n",
      "Simulation;Education : 0.01128158844765343\n",
      "Strategy;Creativity : 0.01128158844765343\n",
      "Role Playing;Brain Games : 0.01128158844765343\n",
      "Parenting;Brain Games : 0.01128158844765343\n",
      "Trivia;Education : 0.01128158844765343\n",
      "Tools;Education : 0.01128158844765343\n",
      "Art & Design;Pretend Play : 0.01128158844765343\n",
      "Lifestyle;Education : 0.01128158844765343\n",
      "Card;Action & Adventure : 0.01128158844765343\n",
      "Arcade;Pretend Play : 0.01128158844765343\n",
      "Lifestyle;Pretend Play : 0.01128158844765343\n",
      "Video Players & Editors;Creativity : 0.01128158844765343\n",
      "Casual;Music & Video : 0.01128158844765343\n",
      "Racing;Pretend Play : 0.01128158844765343\n",
      "Puzzle;Education : 0.01128158844765343\n",
      "Books & Reference;Education : 0.01128158844765343\n",
      "Strategy;Education : 0.01128158844765343\n",
      "Entertainment;Education : 0.01128158844765343\n",
      "Travel & Local;Action & Adventure : 0.01128158844765343\n",
      "Art & Design;Action & Adventure : 0.01128158844765343\n",
      "Comics;Creativity : 0.01128158844765343\n",
      "Health & Fitness;Action & Adventure : 0.01128158844765343\n",
      "Communication;Creativity : 0.01128158844765343\n",
      "Strategy;Action & Adventure : 0.01128158844765343\n"
     ]
    }
   ],
   "source": [
    "print_freq_table(gplay_free, -4) "
   ]
  },
  {
   "cell_type": "markdown",
   "metadata": {},
   "source": [
    "Based on this indicator, we have a lot of categories with a more even spread. Seems it like an extra division of the Categories we checked before.\n",
    "\n",
    "Would make sense to do the observations based on the Categories. \n",
    "\n",
    "As a conclusion:\n",
    "- in the App Store the entertainment apps are dominating by far\n",
    "- in the Google Play its more even between entertainment ones and practical ones\n",
    "\n",
    "-------------------------------\n",
    "\n",
    "In order to see which genres are most popular, we could check the install numbers. Google Play data set has a column for it, **`Installs`**. Apple Store doesn't have a similar column, but we can try and make do by analizing the ratings from the **`rating_count_tot`**. "
   ]
  },
  {
   "cell_type": "markdown",
   "metadata": {},
   "source": [
    "The following function will return the averages for any number based column per genre."
   ]
  },
  {
   "cell_type": "code",
   "execution_count": 31,
   "metadata": {
    "collapsed": false
   },
   "outputs": [],
   "source": [
    "def get_averages(data_set, genre_index, for_index):\n",
    "    genres_freq = get_freq_table(data_set, genre_index)\n",
    "    genres_avg = []\n",
    "    for genre in genres_freq:\n",
    "        genre_total = 0\n",
    "        sum_val = 0\n",
    "        for app in data_set:\n",
    "            name = app[genre_index]\n",
    "            val = float(app[for_index])\n",
    "            if name == genre:\n",
    "                genre_total += 1\n",
    "                sum_val += val\n",
    "        avg_val = sum_val / genre_total\n",
    "        genres_avg.append((genre, avg_val))\n",
    "    \n",
    "    sorted_genres_avg = sorted(genres_avg, key = lambda p: p[1], reverse = True)\n",
    "    return sorted_genres_avg"
   ]
  },
  {
   "cell_type": "code",
   "execution_count": 32,
   "metadata": {
    "collapsed": false
   },
   "outputs": [],
   "source": [
    "genre_rating_app_store = get_averages(app_store_free, -5, 5)"
   ]
  },
  {
   "cell_type": "code",
   "execution_count": 33,
   "metadata": {
    "collapsed": false
   },
   "outputs": [
    {
     "name": "stdout",
     "output_type": "stream",
     "text": [
      "Navigation : 86090.33333333333\n",
      "Reference : 74942.11111111111\n",
      "Social Networking : 71548.34905660378\n",
      "Music : 57326.530303030304\n",
      "Weather : 52279.892857142855\n",
      "Book : 39758.5\n",
      "Food & Drink : 33333.92307692308\n",
      "Finance : 31467.944444444445\n",
      "Photo & Video : 28441.54375\n",
      "Travel : 28243.8\n",
      "Shopping : 26919.690476190477\n",
      "Health & Fitness : 23298.015384615384\n",
      "Sports : 23008.898550724636\n",
      "Games : 22788.6696905016\n",
      "News : 21248.023255813954\n",
      "Productivity : 21028.410714285714\n",
      "Utilities : 18684.456790123455\n",
      "Lifestyle : 16485.764705882353\n",
      "Entertainment : 14029.830708661417\n",
      "Business : 7491.117647058823\n",
      "Education : 7003.983050847458\n",
      "Catalogs : 4004.0\n",
      "Medical : 612.0\n"
     ]
    }
   ],
   "source": [
    "for genre_avg in genre_rating_app_store:\n",
    "    print(genre_avg[0], \":\", genre_avg[1])"
   ]
  },
  {
   "cell_type": "markdown",
   "metadata": {},
   "source": [
    "`Navigation` apps are having the higher rating count. We should look into how the ratings are per navigation app"
   ]
  },
  {
   "cell_type": "code",
   "execution_count": 34,
   "metadata": {
    "collapsed": false
   },
   "outputs": [
    {
     "name": "stdout",
     "output_type": "stream",
     "text": [
      "Waze - GPS Navigation, Maps & Real-time Traffic : 345046.0\n",
      "Google Maps - Navigation & Transit : 154911.0\n",
      "Geocaching® : 12811.0\n",
      "CoPilot GPS – Car Navigation & Offline Maps : 3582.0\n",
      "ImmobilienScout24: Real Estate Search in Germany : 187.0\n",
      "Railway Route Search : 5.0\n"
     ]
    }
   ],
   "source": [
    "for app in app_store_free:\n",
    "    genre = app[-5]\n",
    "    if genre == 'Navigation':\n",
    "        name = app[1]\n",
    "        rating  = float(app[5])\n",
    "        print(name, ':', rating)"
   ]
  },
  {
   "cell_type": "markdown",
   "metadata": {},
   "source": [
    "Major companies dominate by far here. Would be pretty hard to compete here.\n",
    "\n",
    "We can check for the next two averages, References and Social Networking."
   ]
  },
  {
   "cell_type": "code",
   "execution_count": 35,
   "metadata": {
    "collapsed": false
   },
   "outputs": [
    {
     "name": "stdout",
     "output_type": "stream",
     "text": [
      "Waze - GPS Navigation, Maps & Real-time Traffic : 345046.0\n",
      "Google Maps - Navigation & Transit : 154911.0\n",
      "Geocaching® : 12811.0\n",
      "CoPilot GPS – Car Navigation & Offline Maps : 3582.0\n",
      "ImmobilienScout24: Real Estate Search in Germany : 187.0\n",
      "Railway Route Search : 5.0\n"
     ]
    }
   ],
   "source": [
    "for app in app_store_free:\n",
    "    genre = app[-5]\n",
    "    if genre == 'Navigation':\n",
    "        name = app[1]\n",
    "        rating  = float(app[5])\n",
    "        print(name, ':', rating)"
   ]
  },
  {
   "cell_type": "markdown",
   "metadata": {},
   "source": [
    "Here there might be the niche to work on an app. Taking a popular book and making it into an interactive app, potentially with AR even and / or adding gamification. \n",
    "Depending on the book, copyright costs migh be involved."
   ]
  },
  {
   "cell_type": "markdown",
   "metadata": {},
   "source": [
    "Now lets check the Social Network ones"
   ]
  },
  {
   "cell_type": "code",
   "execution_count": 36,
   "metadata": {
    "collapsed": false
   },
   "outputs": [
    {
     "name": "stdout",
     "output_type": "stream",
     "text": [
      "Facebook : 2974676.0\n",
      "Pinterest : 1061624.0\n",
      "Skype for iPhone : 373519.0\n",
      "Messenger : 351466.0\n",
      "Tumblr : 334293.0\n",
      "WhatsApp Messenger : 287589.0\n",
      "Kik : 260965.0\n",
      "ooVoo – Free Video Call, Text and Voice : 177501.0\n",
      "TextNow - Unlimited Text + Calls : 164963.0\n",
      "Viber Messenger – Text & Call : 164249.0\n",
      "Followers - Social Analytics For Instagram : 112778.0\n",
      "MeetMe - Chat and Meet New People : 97072.0\n",
      "We Heart It - Fashion, wallpapers, quotes, tattoos : 90414.0\n",
      "InsTrack for Instagram - Analytics Plus More : 85535.0\n",
      "Tango - Free Video Call, Voice and Chat : 75412.0\n",
      "LinkedIn : 71856.0\n",
      "Match™ - #1 Dating App. : 60659.0\n",
      "Skype for iPad : 60163.0\n",
      "POF - Best Dating App for Conversations : 52642.0\n",
      "Timehop : 49510.0\n",
      "Find My Family, Friends & iPhone - Life360 Locator : 43877.0\n",
      "Whisper - Share, Express, Meet : 39819.0\n",
      "Hangouts : 36404.0\n",
      "LINE PLAY - Your Avatar World : 34677.0\n",
      "WeChat : 34584.0\n",
      "Badoo - Meet New People, Chat, Socialize. : 34428.0\n",
      "Followers + for Instagram - Follower Analytics : 28633.0\n",
      "GroupMe : 28260.0\n",
      "Marco Polo Video Walkie Talkie : 27662.0\n",
      "Miitomo : 23965.0\n",
      "SimSimi : 23530.0\n",
      "Grindr - Gay and same sex guys chat, meet and date : 23201.0\n",
      "Wishbone - Compare Anything : 20649.0\n",
      "imo video calls and chat : 18841.0\n",
      "After School - Funny Anonymous School News : 18482.0\n",
      "Quick Reposter - Repost, Regram and Reshare Photos : 17694.0\n",
      "Weibo HD : 16772.0\n",
      "Repost for Instagram : 15185.0\n",
      "Live.me – Live Video Chat & Make Friends Nearby : 14724.0\n",
      "Nextdoor : 14402.0\n",
      "Followers Analytics for Instagram - InstaReport : 13914.0\n",
      "YouNow: Live Stream Video Chat : 12079.0\n",
      "FollowMeter for Instagram - Followers Tracking : 11976.0\n",
      "LINE : 11437.0\n",
      "eHarmony™ Dating App - Meet Singles : 11124.0\n",
      "Discord - Chat for Gamers : 9152.0\n",
      "QQ : 9109.0\n",
      "Telegram Messenger : 7573.0\n",
      "Weibo : 7265.0\n",
      "Periscope - Live Video Streaming Around the World : 6062.0\n",
      "Chat for Whatsapp - iPad Version : 5060.0\n",
      "QQ HD : 5058.0\n",
      "Followers Analysis Tool For Instagram App Free : 4253.0\n",
      "live.ly - live video streaming : 4145.0\n",
      "Houseparty - Group Video Chat : 3991.0\n",
      "SOMA Messenger : 3232.0\n",
      "Monkey : 3060.0\n",
      "Down To Lunch : 2535.0\n",
      "Flinch - Video Chat Staring Contest : 2134.0\n",
      "Highrise - Your Avatar Community : 2011.0\n",
      "LOVOO - Dating Chat : 1985.0\n",
      "PlayStation®Messages : 1918.0\n",
      "BOO! - Video chat camera with filters & stickers : 1805.0\n",
      "Qzone : 1649.0\n",
      "Chatous - Chat with new people : 1609.0\n",
      "Kiwi - Q&A : 1538.0\n",
      "GhostCodes - a discovery app for Snapchat : 1313.0\n",
      "Jodel : 1193.0\n",
      "FireChat : 1037.0\n",
      "Google Duo - simple video calling : 1033.0\n",
      "Fiesta by Tango - Chat & Meet New People : 885.0\n",
      "Google Allo — smart messaging : 862.0\n",
      "Peach — share vividly : 727.0\n",
      "Hey! VINA - Where Women Meet New Friends : 719.0\n",
      "Battlefield™ Companion : 689.0\n",
      "All Devices for WhatsApp - Messenger for iPad : 682.0\n",
      "Chat for Pokemon Go - GoChat : 500.0\n",
      "IAmNaughty – Dating App to Meet New People Online : 463.0\n",
      "Qzone HD : 458.0\n",
      "Zenly - Locate your friends in realtime : 427.0\n",
      "League of Legends Friends : 420.0\n",
      "豆瓣 : 407.0\n",
      "Candid - Speak Your Mind Freely : 398.0\n",
      "知乎 : 397.0\n",
      "Selfeo : 366.0\n",
      "Fake-A-Location Free ™ : 354.0\n",
      "Popcorn Buzz - Free Group Calls : 281.0\n",
      "Fam — Group video calling for iMessage : 279.0\n",
      "QQ International : 274.0\n",
      "Ameba : 269.0\n",
      "SoundCloud Pulse: for creators : 240.0\n",
      "Tantan : 235.0\n",
      "Cougar Dating & Life Style App for Mature Women : 213.0\n",
      "Rawr Messenger - Dab your chat : 180.0\n",
      "WhenToPost: Best Time to Post Photos for Instagram : 158.0\n",
      "Inke—Broadcast an amazing life : 147.0\n",
      "Mustknow - anonymous video Q&A : 53.0\n",
      "CTFxCmoji : 39.0\n",
      "Lobi : 36.0\n",
      "Chain: Collaborate On MyVideo Story/Group Video : 35.0\n",
      "botman - Real time video chat : 7.0\n",
      "BestieBox : 0.0\n",
      "MATCH ON LINE chat : 0.0\n",
      "niconico ch : 0.0\n",
      "LINE BLOG : 0.0\n",
      "bit-tube - Live Stream Video Chat : 0.0\n"
     ]
    }
   ],
   "source": [
    "for app in app_store_free:\n",
    "    genre = app[-5]\n",
    "    if genre == 'Social Networking':\n",
    "        name = app[1]\n",
    "        rating  = float(app[5])\n",
    "        print(name, ':', rating)"
   ]
  },
  {
   "cell_type": "markdown",
   "metadata": {},
   "source": [
    "Major well established apps are dominating here, bringing a new succesfull one would be difficult."
   ]
  },
  {
   "cell_type": "markdown",
   "metadata": {},
   "source": [
    "We will list all the other too, also it seems we get the results sorted already so we can filter the top 10."
   ]
  },
  {
   "cell_type": "code",
   "execution_count": 37,
   "metadata": {
    "collapsed": false
   },
   "outputs": [
    {
     "name": "stdout",
     "output_type": "stream",
     "text": [
      "------------ Music ------------\n",
      "Pandora - Music & Radio : 1126879.0\n",
      "Spotify Music : 878563.0\n",
      "Shazam - Discover music, artists, videos & lyrics : 402925.0\n",
      "iHeartRadio – Free Music & Radio Stations : 293228.0\n",
      "SoundCloud - Music & Audio : 135744.0\n",
      "Magic Piano by Smule : 131695.0\n",
      "Smule Sing! : 119316.0\n",
      "TuneIn Radio - MLB NBA Audiobooks Podcasts Music : 110420.0\n",
      "Amazon Music : 106235.0\n",
      "SoundHound Song Search & Music Player : 82602.0\n",
      "------------ Weather ------------\n",
      "The Weather Channel: Forecast, Radar & Alerts : 495626.0\n",
      "The Weather Channel App for iPad – best local forecast, radar map, and storm tracking : 208648.0\n",
      "WeatherBug - Local Weather, Radar, Maps, Alerts : 188583.0\n",
      "MyRadar NOAA Weather Radar Forecast : 150158.0\n",
      "AccuWeather - Weather for Life : 144214.0\n",
      "Yahoo Weather : 112603.0\n",
      "Weather Underground: Custom Forecast & Local Radar : 49192.0\n",
      "NOAA Weather Radar - Weather Forecast & HD Radar : 45696.0\n",
      "Weather Live Free - Weather Forecast & Alerts : 35702.0\n",
      "Storm Radar : 22792.0\n",
      "------------ Book ------------\n",
      "Kindle – Read eBooks, Magazines & Textbooks : 252076.0\n",
      "Audible – audio books, original series & podcasts : 105274.0\n",
      "Color Therapy Adult Coloring Book for Adults : 84062.0\n",
      "OverDrive – Library eBooks and Audiobooks : 65450.0\n",
      "HOOKED - Chat Stories : 47829.0\n",
      "BookShout: Read eBooks & Track Your Reading Goals : 879.0\n",
      "Dr. Seuss Treasury — 50 best kids books : 451.0\n",
      "Green Riding Hood : 392.0\n",
      "Weirdwood Manor : 197.0\n",
      "MangaZERO - comic reader : 9.0\n",
      "------------ Food & Drink ------------\n",
      "Starbucks : 303856.0\n",
      "Domino's Pizza USA : 258624.0\n",
      "OpenTable - Restaurant Reservations : 113936.0\n",
      "Allrecipes Dinner Spinner : 109349.0\n",
      "DoorDash - Food Delivery : 25947.0\n",
      "UberEATS: Uber for Food Delivery : 17865.0\n",
      "Postmates - Food Delivery, Faster : 9519.0\n",
      "Dunkin' Donuts - Get Offers, Coupons & Rewards : 9068.0\n",
      "Chick-fil-A : 5665.0\n",
      "McDonald's : 4050.0\n",
      "------------ Finance ------------\n",
      "Chase Mobile℠ : 233270.0\n",
      "Mint: Personal Finance, Budget, Bills & Money : 232940.0\n",
      "Bank of America - Mobile Banking : 119773.0\n",
      "PayPal - Send and request money safely : 119487.0\n",
      "Credit Karma: Free Credit Scores, Reports & Alerts : 101679.0\n",
      "Capital One Mobile : 56110.0\n",
      "Citi Mobile® : 48822.0\n",
      "Wells Fargo Mobile : 43064.0\n",
      "Chase Mobile : 34322.0\n",
      "Square Cash - Send Money for Free : 23775.0\n",
      "------------ Photo & Video ------------\n",
      "Instagram : 2161558.0\n",
      "Snapchat : 323905.0\n",
      "YouTube - Watch Videos, Music, and Live Streams : 278166.0\n",
      "Pic Collage - Picture Editor & Photo Collage Maker : 123433.0\n",
      "Funimate video editor: add cool effects to videos : 123268.0\n",
      "musical.ly - your video social network : 105429.0\n",
      "Photo Collage Maker & Photo Editor - Live Collage : 93781.0\n",
      "Vine Camera : 90355.0\n",
      "Google Photos - unlimited photo and video storage : 88742.0\n",
      "Flipagram : 79905.0\n",
      "------------ Travel ------------\n",
      "Google Earth : 446185.0\n",
      "Yelp - Nearby Restaurants, Shopping & Services : 223885.0\n",
      "GasBuddy : 145549.0\n",
      "TripAdvisor Hotels Flights Restaurants : 56194.0\n",
      "Uber : 49466.0\n",
      "Lyft : 46922.0\n",
      "HotelTonight - Great Deals on Last Minute Hotels : 32341.0\n",
      "Hotels & Vacation Rentals by Booking.com : 31261.0\n",
      "Southwest Airlines : 30552.0\n",
      "Airbnb : 22302.0\n",
      "------------ Shopping ------------\n",
      "Groupon - Deals, Coupons & Discount Shopping App : 417779.0\n",
      "eBay: Best App to Buy, Sell, Save! Online Shopping : 262241.0\n",
      "Wish - Shopping Made Fun : 141960.0\n",
      "shopkick - Shopping Rewards & Discounts : 130823.0\n",
      "Amazon App: shop, scan, compare, and read reviews : 126312.0\n",
      "Target : 108131.0\n",
      "Zappos: shop shoes & clothes, fast free shipping : 103655.0\n",
      "Walgreens – Pharmacy, Photo, Coupons and Shopping : 88885.0\n",
      "Best Buy : 80424.0\n",
      "Walmart: Free 2-Day Shipping,* Easy Store Shopping : 70286.0\n",
      "------------ Health & Fitness ------------\n",
      "Calorie Counter & Diet Tracker by MyFitnessPal : 507706.0\n",
      "Lose It! – Weight Loss Program and Calorie Counter : 373835.0\n",
      "Weight Watchers : 136833.0\n",
      "Sleep Cycle alarm clock : 104539.0\n",
      "Fitbit : 90496.0\n",
      "Period Tracker Lite : 53620.0\n",
      "Nike+ Training Club - Workouts & Fitness Plans : 33969.0\n",
      "Plant Nanny - Water Reminder with Cute Plants : 27421.0\n",
      "Sworkit - Custom Workouts for Exercise & Fitness : 16819.0\n",
      "Clue Period Tracker: Period & Ovulation Tracker : 13436.0\n",
      "------------ Sports ------------\n",
      "ESPN: Get scores, news, alerts & watch live sports : 290996.0\n",
      "Yahoo Fantasy Sports : 190670.0\n",
      "WatchESPN : 159735.0\n",
      "The Masters Tournament : 148160.0\n",
      "Yahoo Sports - Teams, Scores, News & Highlights : 137951.0\n",
      "ESPN Fantasy Football Baseball Basketball Hockey : 64925.0\n",
      "CBS Sports App - Sports Scores, News, Stats, Watch : 59639.0\n",
      "FOX Sports Mobile : 57500.0\n",
      "2016 U.S. Open Golf Championship : 54192.0\n",
      "NBC Sports : 47172.0\n",
      "------------ Games ------------\n",
      "Clash of Clans : 2130805.0\n",
      "Temple Run : 1724546.0\n",
      "Candy Crush Saga : 961794.0\n",
      "Angry Birds : 824451.0\n",
      "Subway Surfers : 706110.0\n",
      "Solitaire : 679055.0\n",
      "CSR Racing : 677247.0\n",
      "Crossy Road - Endless Arcade Hopper : 669079.0\n",
      "Injustice: Gods Among Us : 612532.0\n",
      "Hay Day : 567344.0\n",
      "------------ News ------------\n",
      "Twitter : 354058.0\n",
      "Fox News : 132703.0\n",
      "CNN: Breaking US & World News, Live Video : 112886.0\n",
      "Reddit Official App: All That's Trending and Viral : 67560.0\n",
      "USA TODAY : 61724.0\n",
      "ABC News - US & World News + Live Video : 48407.0\n",
      "NBC News : 32881.0\n",
      "HuffPost - News, Politics & Entertainment : 29107.0\n",
      "The Washington Post Classic : 18572.0\n",
      "WIRED Magazine : 12074.0\n",
      "------------ Productivity ------------\n",
      "Evernote - stay organized : 161065.0\n",
      "Gmail - email by Google: secure, fast & organized : 135962.0\n",
      "iTranslate - Language Translator & Dictionary : 123215.0\n",
      "Yahoo Mail - Keeps You Organized! : 113709.0\n",
      "Google Docs : 64259.0\n",
      "Google Drive - free online storage : 59255.0\n",
      "Dropbox : 49578.0\n",
      "Microsoft Word : 47999.0\n",
      "Microsoft OneNote : 39638.0\n",
      "Microsoft Outlook - email and calendar : 32807.0\n",
      "------------ Utilities ------------\n",
      "Google – Search made just for mobile : 479440.0\n",
      "Flashlight Ⓞ : 130450.0\n",
      "My Verizon : 126948.0\n",
      "myAT&T : 108507.0\n",
      "The Calculator - Free and Easy Calculating! : 99244.0\n",
      "Speedtest by Ookla : 65016.0\n",
      "Google Chrome – The Fast and Secure Web Browser : 55750.0\n",
      "Alarm Clock HD Free - Digital Alarm Clock Display : 54496.0\n",
      "Calculator Pro for iPad Free - Smart Calculator : 47803.0\n",
      "Bitmoji - Your Personal Emoji : 37972.0\n",
      "------------ Lifestyle ------------\n",
      "Zillow Real Estate - Homes for Sale & for Rent : 342969.0\n",
      "Tinder : 143040.0\n",
      "Text Free: Free Texting + Calling + MMS : 100477.0\n",
      "Countdown‼ (Event Reminders and Timer) : 60490.0\n",
      "PINK Nation : 49816.0\n",
      "happn — Dating app — Find and meet your crush : 20546.0\n",
      "Perfect365 - Custom makeup designs and beauty tips : 19540.0\n",
      "ipsy - Makeup, subscription and beauty tips : 17489.0\n",
      "cute icon&wallpaper dressup - CocoPPa : 12508.0\n",
      "Bumble – Find a Date, Meet Friends & Network : 10109.0\n",
      "------------ Entertainment ------------\n",
      "Netflix : 308844.0\n",
      "Fandango Movies - Times + Tickets : 291787.0\n",
      "Colorfy: Coloring Book for Adults : 247809.0\n",
      "IMDb Movies & TV - Trailers and Showtimes : 183425.0\n",
      "TRUTH or DARE!!! - FREE : 171055.0\n",
      "Mad Libs : 117889.0\n",
      "Twitch : 109549.0\n",
      "Action Movie FX : 101222.0\n",
      "Voice Changer Plus : 98777.0\n",
      "iFunny :) : 98344.0\n",
      "------------ Business ------------\n",
      "Indeed Job Search : 38681.0\n",
      "Flashlight ◎ : 24744.0\n",
      "Adobe Acrobat Reader: View, Create, & Convert PDFs : 20069.0\n",
      "Scanner App - PDF Document Scan : 11696.0\n",
      "SayHi Translate : 8623.0\n",
      "ADP Mobile Solutions : 8324.0\n",
      "Sideline - 2nd Phone Number : 7907.0\n",
      "Uber Driver : 3289.0\n",
      "AirWatch Agent : 1150.0\n",
      "VPN Go - Safe Fast & Stable VPN Proxy : 881.0\n",
      "------------ Education ------------\n",
      "Duolingo - Learn Spanish, French and more : 162701.0\n",
      "Guess My Age  Math Magic : 123190.0\n",
      "Lumosity - Brain Training : 96534.0\n",
      "Elevate - Brain Training and Games : 58092.0\n",
      "Fit Brains Trainer : 46363.0\n",
      "ClassDojo : 35440.0\n",
      "Memrise: learn languages : 20383.0\n",
      "Peak - Brain Training : 20322.0\n",
      "Canvas by Instructure : 19981.0\n",
      "ABCmouse.com - Early Learning Academy : 18749.0\n",
      "------------ Catalogs ------------\n",
      "CPlus for Craigslist app - mobile classifieds : 13345.0\n",
      "DRAGONS MODS FREE for Minecraft PC Game Edition : 2027.0\n",
      "Face Swap and Copy Free – Switch & Fusion Faces in a Photo : 431.0\n",
      "Ringtone Remixes - Marimba Remix Ringtones : 213.0\n",
      "------------ Medical ------------\n",
      "SnoreLab : Record Your Snoring : 1341.0\n",
      "Blink Health : 1198.0\n",
      "Complete Anatomy : 1104.0\n",
      "MyDx One: Find a Strain that Works for You : 29.0\n",
      "iSleeping by iSommeil SARL : 0.0\n",
      "Malodo : Stop au mal de dos : 0.0\n"
     ]
    }
   ],
   "source": [
    "for genre_avg in genre_rating_app_store[3:]:\n",
    "    print('------------', genre_avg[0], '------------' )\n",
    "    stop = 0\n",
    "    for app in app_store_free:\n",
    "        genre = app[-5]\n",
    "        if genre == genre_avg[0]:\n",
    "            name = app[1]\n",
    "            rating  = float(app[5])\n",
    "            print(name, ':', rating)\n",
    "            if stop == 9:\n",
    "                break\n",
    "            stop += 1"
   ]
  },
  {
   "cell_type": "markdown",
   "metadata": {},
   "source": [
    "We can see the same trend, outisde Games, big name companies lead with their apps.\n",
    "\n",
    "It might be possbile to try in some genres, but costs will be involved ( for an weather app might not be free to get the data for example)"
   ]
  },
  {
   "cell_type": "markdown",
   "metadata": {},
   "source": [
    "Now lets get to Google Play. In this case we actually have a column with the install numbers. "
   ]
  },
  {
   "cell_type": "code",
   "execution_count": 38,
   "metadata": {
    "collapsed": false
   },
   "outputs": [
    {
     "name": "stdout",
     "output_type": "stream",
     "text": [
      "1,000,000+ : 15.726534296028879\n",
      "100,000+ : 11.552346570397113\n",
      "10,000,000+ : 10.548285198555957\n",
      "10,000+ : 10.198555956678701\n",
      "1,000+ : 8.393501805054152\n",
      "100+ : 6.915613718411552\n",
      "5,000,000+ : 6.825361010830325\n",
      "500,000+ : 5.561823104693141\n",
      "50,000+ : 4.7721119133574\n",
      "5,000+ : 4.512635379061372\n",
      "10+ : 3.5424187725631766\n",
      "500+ : 3.2490974729241873\n",
      "50,000,000+ : 2.3014440433213\n",
      "100,000,000+ : 2.1322202166064983\n",
      "50+ : 1.917870036101083\n",
      "5+ : 0.78971119133574\n",
      "1+ : 0.5076714801444043\n",
      "500,000,000+ : 0.2707581227436823\n",
      "1,000,000,000+ : 0.22563176895306858\n",
      "0+ : 0.04512635379061372\n",
      "0 : 0.01128158844765343\n"
     ]
    }
   ],
   "source": [
    "print_freq_table(gplay_free, 5)"
   ]
  },
  {
   "cell_type": "markdown",
   "metadata": {},
   "source": [
    "We gonna assume the installs number column is  actuall number, as in 50,000,000+ means therea are 50.000.000 installs and calculate the averages based on that. \n",
    "\n",
    "Unfortunatelly we cant fully re-use the above `get_averages` function, we need a specific one for the Google Play data set."
   ]
  },
  {
   "cell_type": "code",
   "execution_count": 39,
   "metadata": {
    "collapsed": true
   },
   "outputs": [],
   "source": [
    "def get_averages_installs_gplay():\n",
    "    categories_freq = get_freq_table(gplay_free, 1)\n",
    "    installs_avg = []\n",
    "    for category in categories_freq:\n",
    "        category_total = 0\n",
    "        sum_val = 0\n",
    "        for app in gplay_free:\n",
    "            name = app[1]\n",
    "            if name == category:\n",
    "                category_total += 1\n",
    "                installs = app[5].replace(',','').replace('+','')\n",
    "                sum_val += float(installs)\n",
    "        avg_val = sum_val / category_total\n",
    "        installs_avg.append((category, avg_val))\n",
    "    \n",
    "    sorted_installs_avg = sorted(installs_avg, key = lambda p: p[1], reverse = True)\n",
    "    return sorted_installs_avg"
   ]
  },
  {
   "cell_type": "code",
   "execution_count": 40,
   "metadata": {
    "collapsed": false
   },
   "outputs": [],
   "source": [
    "gplay_installs_avg = get_averages_installs_gplay()"
   ]
  },
  {
   "cell_type": "code",
   "execution_count": 41,
   "metadata": {
    "collapsed": false
   },
   "outputs": [
    {
     "name": "stdout",
     "output_type": "stream",
     "text": [
      "COMMUNICATION : 38456119.167247385\n",
      "VIDEO_PLAYERS : 24727872.452830188\n",
      "SOCIAL : 23253652.127118643\n",
      "PHOTOGRAPHY : 17840110.40229885\n",
      "PRODUCTIVITY : 16787331.344927534\n",
      "GAME : 15588015.603248259\n",
      "TRAVEL_AND_LOCAL : 13984077.710144928\n",
      "ENTERTAINMENT : 11640705.88235294\n",
      "TOOLS : 10801391.298666667\n",
      "NEWS_AND_MAGAZINES : 9549178.467741935\n",
      "BOOKS_AND_REFERENCE : 8767811.894736841\n",
      "SHOPPING : 7036877.311557789\n",
      "PERSONALIZATION : 5201482.6122448975\n",
      "WEATHER : 5074486.197183099\n",
      "HEALTH_AND_FITNESS : 4188821.9853479853\n",
      "MAPS_AND_NAVIGATION : 4056941.7741935486\n",
      "FAMILY : 3695641.8198090694\n",
      "SPORTS : 3638640.1428571427\n",
      "ART_AND_DESIGN : 1986335.0877192982\n",
      "FOOD_AND_DRINK : 1924897.7363636363\n",
      "EDUCATION : 1833495.145631068\n",
      "BUSINESS : 1712290.1474201474\n",
      "LIFESTYLE : 1437816.2687861272\n",
      "FINANCE : 1387692.475609756\n",
      "HOUSE_AND_HOME : 1331540.5616438356\n",
      "DATING : 854028.8303030303\n",
      "COMICS : 817657.2727272727\n",
      "AUTO_AND_VEHICLES : 647317.8170731707\n",
      "LIBRARIES_AND_DEMO : 638503.734939759\n",
      "PARENTING : 542603.6206896552\n",
      "BEAUTY : 513151.88679245283\n",
      "EVENTS : 253542.22222222222\n",
      "MEDICAL : 120550.61980830671\n"
     ]
    }
   ],
   "source": [
    "for p in gplay_installs_avg:\n",
    "    print(p[0], ':', p[1])"
   ]
  },
  {
   "cell_type": "markdown",
   "metadata": {},
   "source": [
    "Communication apps have on average the most installs. We can have a look at those apps."
   ]
  },
  {
   "cell_type": "code",
   "execution_count": 42,
   "metadata": {
    "collapsed": false
   },
   "outputs": [],
   "source": [
    "def get_gplay_installs_per_category(category):\n",
    "    comm_apps_installs = []\n",
    "    float_str_pairs = {}\n",
    "    for app in gplay_free:\n",
    "        if app[1] == category:\n",
    "            installs = float(app[5].replace(',','').replace('+',''))\n",
    "            float_str_pairs[installs] = app[5]\n",
    "            comm_apps_installs.append((app[0], installs))\n",
    "\n",
    "    sorted_one = sorted(comm_apps_installs, key=lambda p: p[1], reverse=True)\n",
    "    \n",
    "    return sorted_one, float_str_pairs"
   ]
  },
  {
   "cell_type": "code",
   "execution_count": 43,
   "metadata": {
    "collapsed": false
   },
   "outputs": [
    {
     "name": "stdout",
     "output_type": "stream",
     "text": [
      "Gmail : 1,000,000,000+\n",
      "WhatsApp Messenger : 1,000,000,000+\n",
      "Messenger – Text and Video Chat for Free : 1,000,000,000+\n",
      "Hangouts : 1,000,000,000+\n",
      "Google Chrome: Fast & Secure : 1,000,000,000+\n",
      "Skype - free IM & video calls : 1,000,000,000+\n",
      "Viber Messenger : 500,000,000+\n",
      "LINE: Free Calls & Messages : 500,000,000+\n",
      "imo free video calls and chat : 500,000,000+\n",
      "Google Duo - High Quality Video Calls : 500,000,000+\n",
      "UC Browser - Fast Download Private & Secure : 500,000,000+\n",
      "imo beta free calls and text : 100,000,000+\n",
      "Telegram : 100,000,000+\n",
      "Opera Browser: Fast and Secure : 100,000,000+\n",
      "Android Messages : 100,000,000+\n",
      "GO SMS Pro - Messenger, Free Themes, Emoji : 100,000,000+\n",
      "Firefox Browser fast & private : 100,000,000+\n",
      "Messenger Lite: Free Calls & Messages : 100,000,000+\n",
      "UC Browser Mini -Tiny Fast Private & Secure : 100,000,000+\n",
      "Truecaller: Caller ID, SMS spam blocking & Dialer : 100,000,000+\n",
      "Opera Mini - fast web browser : 100,000,000+\n",
      "Kik : 100,000,000+\n",
      "BBM - Free Calls & Messages : 100,000,000+\n",
      "Who : 100,000,000+\n",
      "Yahoo Mail – Stay Organized : 100,000,000+\n",
      "KakaoTalk: Free Calls & Text : 100,000,000+\n",
      "WeChat : 100,000,000+\n",
      "CM Browser - Ad Blocker , Fast Download , Privacy : 50,000,000+\n",
      "Contacts : 50,000,000+\n",
      "free video calls and chat : 50,000,000+\n",
      "Zalo – Video Call : 50,000,000+\n",
      "Mail.Ru - Email App : 50,000,000+\n",
      "Azar : 50,000,000+\n",
      "Dolphin Browser - Fast, Private & Adblock🐬 : 50,000,000+\n",
      "Glide - Video Chat Messenger : 10,000,000+\n",
      "MegaFon Dashboard : 10,000,000+\n",
      "Calls Blacklist - Call Blocker : 10,000,000+\n",
      "Portable Wi-Fi hotspot : 10,000,000+\n",
      "TouchPal Keyboard - Fun Emoji & Android Keyboard : 10,000,000+\n",
      "Browser 4G : 10,000,000+\n",
      "Adblock Browser for Android : 10,000,000+\n",
      "Omlet Chat : 10,000,000+\n",
      "myMail – Email for Hotmail, Gmail and Outlook Mail : 10,000,000+\n",
      "Google Allo : 10,000,000+\n",
      "DU Browser—Browse fast & fun : 10,000,000+\n",
      "GroupMe : 10,000,000+\n",
      "Talkray - Free Calls & Texts : 10,000,000+\n",
      "Messenger for SMS : 10,000,000+\n",
      "Orfox: Tor Browser for Android : 10,000,000+\n",
      "Puffin Web Browser : 10,000,000+\n",
      "chomp SMS : 10,000,000+\n",
      "Google Voice : 10,000,000+\n",
      "AT&T Visual Voicemail : 10,000,000+\n",
      "WhatsApp Business : 10,000,000+\n",
      "Opera Mini browser beta : 10,000,000+\n",
      "Cricket Visual Voicemail : 10,000,000+\n",
      "Whoscall - Caller ID & Block : 10,000,000+\n",
      "CallApp: Caller ID, Blocker & Phone Call Recorder : 10,000,000+\n",
      "Mr. Number-Block calls & spam : 10,000,000+\n",
      "Hiya - Caller ID & Block : 10,000,000+\n",
      "Voxer Walkie Talkie Messenger : 10,000,000+\n",
      "Hangouts Dialer - Call Phones : 10,000,000+\n",
      "WEB.DE Mail : 10,000,000+\n",
      "Contacts+ : 10,000,000+\n",
      "WhatsCall Free Global Phone Call App & Cheap Calls : 10,000,000+\n",
      "Talkatone: Free Texts, Calls & Phone Number : 10,000,000+\n",
      "Text SMS : 10,000,000+\n",
      "ICQ — Video Calls & Chat Messenger : 10,000,000+\n",
      "Free Adblocker Browser - Adblock & Popup Blocker : 10,000,000+\n",
      "ZenUI Dialer & Contacts : 10,000,000+\n",
      "Free WiFi Connect : 10,000,000+\n",
      "Discord - Chat for Gamers : 10,000,000+\n",
      "GO Notifier : 10,000,000+\n",
      "GMX Mail : 10,000,000+\n",
      "Xperia Link™ : 10,000,000+\n",
      "Psiphon Pro - The Internet Freedom VPN : 10,000,000+\n",
      "ExDialer - Dialer & Contacts : 10,000,000+\n",
      "Daum Mail - Next Mail : 5,000,000+\n",
      "Sync.ME – Caller ID & Block : 5,000,000+\n",
      "Full Screen Caller ID : 5,000,000+\n",
      "CM Transfer - Share any files with friends nearby : 5,000,000+\n",
      "Bluetooth Auto Connect : 5,000,000+\n",
      "Web Browser & Explorer : 5,000,000+\n",
      "Skype Lite - Free Video Call & Chat : 5,000,000+\n",
      "Caller ID & Call Block - DU Caller : 5,000,000+\n",
      "AT&T Call Protect : 5,000,000+\n",
      "Calls & Text by Mo+ : 5,000,000+\n",
      "Chrome Dev : 5,000,000+\n",
      "K-9 Mail : 5,000,000+\n",
      "JusTalk - Free Video Calls and Fun Video Chat : 5,000,000+\n",
      "Microsoft Edge : 5,000,000+\n",
      "My Vodacom SA : 5,000,000+\n",
      "Ear Agent: Super Hearing : 5,000,000+\n",
      "My Tele2 : 5,000,000+\n",
      "Call Free – Free Call : 5,000,000+\n",
      "Brave Browser: Fast AdBlocker : 5,000,000+\n",
      "Your Freedom VPN Client : 5,000,000+\n",
      "CIA - Caller ID & Call Blocker : 5,000,000+\n",
      "Call Control - Call Blocker : 5,000,000+\n",
      "Vonage Mobile® Call Video Text : 1,000,000+\n",
      "Burner - Free Phone Number : 1,000,000+\n",
      "Caller ID + : 1,000,000+\n",
      "Email TypeApp - Mail App : 1,000,000+\n",
      "SW-100.tch by Callstel : 1,000,000+\n",
      "All Email Providers : 1,000,000+\n",
      "True Contact - Real Caller ID : 1,000,000+\n",
      "Messaging+ SMS, MMS Free : 1,000,000+\n",
      "CB Radio Chat - for friends! : 1,000,000+\n",
      "Call Blocker - Blacklist, SMS Blocker : 1,000,000+\n",
      "My Vodafone (GR) : 1,000,000+\n",
      "Lite for Facebook Messenger : 1,000,000+\n",
      "AntennaPict β : 1,000,000+\n",
      "TracFone My Account : 1,000,000+\n",
      "Newton Mail - Email App for Gmail, Outlook, IMAP : 1,000,000+\n",
      "Wi-Fi Auto-connect : 1,000,000+\n",
      "BBMoji - Your personalized BBM Stickers : 1,000,000+\n",
      "2ndLine - Second Phone Number : 1,000,000+\n",
      "My magenta : 1,000,000+\n",
      "InBrowser - Incognito Browsing : 1,000,000+\n",
      "WeFi - Free Fast WiFi Connect & Find Wi-Fi Map : 1,000,000+\n",
      "Adblock Plus for Samsung Internet - Browse safe. : 1,000,000+\n",
      "Seznam.cz : 1,000,000+\n",
      "mail.com mail : 1,000,000+\n",
      "Should I Answer? : 1,000,000+\n",
      "AW - free video calls and chat : 1,000,000+\n",
      "Ninesky Browser : 1,000,000+\n",
      "ClanPlay: Community and Tools for Gamers : 1,000,000+\n",
      "Tiny Call Confirm : 1,000,000+\n",
      "DW Contacts & Phone & Dialer : 1,000,000+\n",
      "Web Browser for Android : 1,000,000+\n",
      "Firefox Focus: The privacy browser : 1,000,000+\n",
      "RocketDial Dialer & Contacts : 1,000,000+\n",
      "Ghostery Privacy Browser : 1,000,000+\n",
      "AT&T Messages for Tablet : 1,000,000+\n",
      "mysms SMS Text Messaging Sync : 1,000,000+\n",
      "PHONE for Google Voice & GTalk : 1,000,000+\n",
      "Safest Call Blocker : 1,000,000+\n",
      "Video Caller Id : 1,000,000+\n",
      "Virtual Walkie Talkie : 1,000,000+\n",
      "SolMail - All-in-One email app : 500,000+\n",
      "Web Browser : 500,000+\n",
      "BD Data Plan (3G & 4G) : 500,000+\n",
      "FreedomPop Messaging Phone/SIM : 500,000+\n",
      "TownWiFi | Wi-Fi Everywhere : 500,000+\n",
      "LokLok: Draw on a Lock Screen : 500,000+\n",
      "Lightning Web Browser : 500,000+\n",
      "Talkie - Wi-Fi Calling, Chats, File Sharing : 500,000+\n",
      "U - Webinars, Meetings & Messenger : 500,000+\n",
      "Channel 19 : 100,000+\n",
      "BT MeetMe with Dolby Voice : 100,000+\n",
      "Morse Code Reader : 100,000+\n",
      "K-@ Mail - Email App : 100,000+\n",
      "Goodbox - Mega App : 100,000+\n",
      "PlacarTv Futebol Ao Vivo : 100,000+\n",
      "AZ Browser. Private & Download : 100,000+\n",
      "Everbridge : 100,000+\n",
      "Baby Monitor AV : 100,000+\n",
      "QRZ Assistant : 100,000+\n",
      "T-Mobile DIGITS : 100,000+\n",
      "Antillean Gold Telegram (original version) : 100,000+\n",
      "WiFi Access Point (hotspot) : 100,000+\n",
      "Portable Wi-Fi hotspot Free : 100,000+\n",
      "CB On Mobile : 100,000+\n",
      "M star Dialer : 100,000+\n",
      "BD Internet Packages (Updated) : 50,000+\n",
      "BT Messenger : 50,000+\n",
      "N-Com Wizard : 50,000+\n",
      "My BF App : 50,000+\n",
      "3G DZ Configuration : 50,000+\n",
      "Free Wi-fi HotspoT : 50,000+\n",
      "HipChat - beta version : 50,000+\n",
      "IZ2UUF Morse Koch CW : 50,000+\n",
      "AudioBT: BT audio GPS/SMS/Text : 50,000+\n",
      "X Browser : 50,000+\n",
      "BF Browser by Betfilter - Stop Gambling Today! : 10,000+\n",
      "Deaf World DW : 10,000+\n",
      "Access Point Names : 10,000+\n",
      "Mail1Click - Secure Mail : 10,000+\n",
      "m:go BiH : 10,000+\n",
      "Eg Call : 10,000+\n",
      "ClanHQ : 10,000+\n",
      "EZ Wifi Notification : 10,000+\n",
      "Ham Radio Prefixes : 10,000+\n",
      "Pocket Prefix Plus : 10,000+\n",
      "/u/app : 10,000+\n",
      "DMR BrandMeister Tool : 10,000+\n",
      "BT One Phone Mobile App : 10,000+\n",
      "Ring : 10,000+\n",
      "[verify-U] VideoIdent : 10,000+\n",
      "Jazz Wi-Fi : 10,000+\n",
      "Feel Performer : 10,000+\n",
      "Ad Blocker Turbo - Adblocker Browser : 10,000+\n",
      "Inbox.eu : 10,000+\n",
      "BD Dialer : 10,000+\n",
      "Ham DX Cluster & Spots Finder : 5,000+\n",
      "love sms good morning : 5,000+\n",
      "Sat-Fi : 5,000+\n",
      "retteMi.ch : 5,000+\n",
      "AK Phone : 5,000+\n",
      "Council Voting Calculator : 5,000+\n",
      "Learn Morse Code - G0HYN Learn Morse : 5,000+\n",
      "CS Browser Beta : 5,000+\n",
      "AG Contacts, Lite edition : 5,000+\n",
      "mail.co.uk Mail : 5,000+\n",
      "DM Talk New : 5,000+\n",
      "K-9 Material (unofficial) : 5,000+\n",
      "Mircules DX Cluster Lite : 5,000+\n",
      "BD Live Call : 5,000+\n",
      "DM for WhatsApp : 5,000+\n",
      "BT One Voice mobile access : 5,000+\n",
      "Call Blocker & Blacklist : 1,000+\n",
      "SMS Sender - sluzba.cz : 1,000+\n",
      "CS Browser | #1 & BEST BROWSER : 1,000+\n",
      "BK Chat : 1,000+\n",
      "BQ Partners : 1,000+\n",
      "CS Customizer : 1,000+\n",
      "Sat-Fi Voice : 1,000+\n",
      "FO AIRBUS TLSE : 1,000+\n",
      "AV Phone : 1,000+\n",
      "BlueDV AMBE : 1,000+\n",
      "FC Browser - Focus Privacy Browser : 1,000+\n",
      "cluster.dk : 1,000+\n",
      "CQ-Mobile : 1,000+\n",
      "EU Council : 1,000+\n",
      "ReadyOp DT : 1,000+\n",
      "DM Tracker : 1,000+\n",
      "BN MALLORCA Radio : 1,000+\n",
      "BH Mail : 1,000+\n",
      "AU Call Blocker - Block Unwanted Calls Texts 2018 : 1,000+\n",
      "CW BLE Peripheral Simulator : 500+\n",
      "ES-1 : 500+\n",
      "Best Auto Call Recorder Free : 500+\n",
      "ATC Unico BS : 500+\n",
      "CQ-Alert : 500+\n",
      "Rádio Sol Nascente DF : 500+\n",
      "Traffic signs BD : 500+\n",
      "Have your say on Europe : 500+\n",
      "BV : 100+\n",
      "[EF]ShoutBox : 100+\n",
      "FO SODEXO : 100+\n",
      "Katalogen.ax : 100+\n",
      "EHiN-FH conferenceapp : 100+\n",
      "DG Card : 100+\n",
      "CJ Browser - Fast & Private : 100+\n",
      "Programi podrške EU : 100+\n",
      "FO OP St-Nazaire : 100+\n",
      "EP RSS Reader : 100+\n",
      "Aj.Petra : 100+\n",
      "Amadeus GR & CY : 100+\n",
      "Cy Messenger : 100+\n",
      "MARKET FO : 100+\n",
      "Carpooling FH Hagenberg : 100+\n",
      "FO PSA Sept-Fons : 100+\n",
      "FO STELIA Méaulte : 100+\n",
      "chat dz : 100+\n",
      "CJ DVD Rentals : 100+\n",
      "FO AIRBUS Nantes : 100+\n",
      "CF Chat: Connecting Friends : 100+\n",
      "Bee'ah Employee App : 100+\n",
      "FO Interim : 100+\n",
      "tournaments and more.aj.2 : 100+\n",
      "FO RCBT : 100+\n",
      "CW Bluetooth SPP : 100+\n",
      "C W Browser : 100+\n",
      "FP Connect : 100+\n",
      "AC-BL : 50+\n",
      "DK TEL Dialer : 50+\n",
      "BS-Mobile : 50+\n",
      "Cb browser : 50+\n",
      "Hyundai CX Conference : 50+\n",
      "Hlášenírozhlasu.cz : 10+\n",
      "Best Browser BD social networking : 10+\n",
      "ei : 10+\n",
      "EJ messenger : 10+\n",
      "DK Browser : 10+\n",
      "FNH Payment Info : 10+\n",
      "CK Call NEW : 10+\n",
      "DM - The Offical Messaging App : 10+\n",
      "FP Live : 10+\n",
      "Oklahoma Ag Co-op Council : 10+\n",
      "EO Mumbai : 10+\n",
      "Ek IRA : 10+\n",
      "BJ - Confidential : 10+\n",
      "FN Web Radio : 10+\n",
      "Of the wall Arapaho bk : 5+\n",
      "Test Server SMS FA : 5+\n",
      "BA SALES : 1+\n"
     ]
    }
   ],
   "source": [
    "comm_app_installs, float_str_pairs = get_gplay_installs_per_category(\"COMMUNICATION\")\n",
    "for p in comm_app_installs:\n",
    "    print(p[0], \":\", float_str_pairs[p[1]])"
   ]
  },
  {
   "cell_type": "markdown",
   "metadata": {},
   "source": [
    "Again we can see well established applications here, would be very hard to grab a market share here.\n",
    "\n"
   ]
  },
  {
   "cell_type": "markdown",
   "metadata": {},
   "source": [
    "Lets have a look at some more"
   ]
  },
  {
   "cell_type": "code",
   "execution_count": 44,
   "metadata": {
    "collapsed": false
   },
   "outputs": [
    {
     "name": "stdout",
     "output_type": "stream",
     "text": [
      "Google Play Movies & TV : 1,000,000,000+\n",
      "YouTube : 1,000,000,000+\n",
      "MX Player : 500,000,000+\n",
      "Motorola FM Radio : 100,000,000+\n",
      "Dubsmash : 100,000,000+\n",
      "VivaVideo - Video Editor & Photo Movie : 100,000,000+\n",
      "VideoShow-Video Editor, Video Maker, Beauty Camera : 100,000,000+\n",
      "VLC for Android : 100,000,000+\n",
      "Motorola Gallery : 100,000,000+\n",
      "VMate : 50,000,000+\n",
      "HD Video Downloader : 2018 Best video mate : 50,000,000+\n",
      "MiniMovie - Free Video and Slideshow Editor : 50,000,000+\n",
      "KineMaster – Pro Video Editor : 50,000,000+\n",
      "DU Recorder – Screen Recorder, Video Editor, Live : 50,000,000+\n",
      "LIKE – Magic Video Maker & Community : 50,000,000+\n",
      "Vote for : 50,000,000+\n",
      "Ringdroid : 50,000,000+\n",
      "Samsung Video Library : 50,000,000+\n",
      "Vigo Video : 50,000,000+\n",
      "Inst Download - Video & Photo : 10,000,000+\n",
      "HTC Gallery : 10,000,000+\n",
      "video player for android : 10,000,000+\n",
      "Mobizen Screen Recorder for SAMSUNG : 10,000,000+\n",
      "BSPlayer FREE : 10,000,000+\n",
      "Video Downloader : 10,000,000+\n",
      "YouTube Studio : 10,000,000+\n",
      "BitTorrent®- Torrent Downloads : 10,000,000+\n",
      "AfreecaTV : 10,000,000+\n",
      "Naruto Shippuden - Watch Free! : 10,000,000+\n",
      "Omlet Arcade - Stream, Meet, Play : 10,000,000+\n",
      "All Video Downloader : 10,000,000+\n",
      "AZ Screen Recorder - No Root : 10,000,000+\n",
      "Magisto Video Editor & Maker : 10,000,000+\n",
      "FilmoraGo - Free Video Editor : 10,000,000+\n",
      "HTC Service － DLNA : 10,000,000+\n",
      "iMediaShare – Photos & Music : 10,000,000+\n",
      "Code : 10,000,000+\n",
      "Music - Mp3 Player : 10,000,000+\n",
      "Video Player All Format : 10,000,000+\n",
      "Quik – Free Video Editor for photos, clips, music : 10,000,000+\n",
      "FrostWire: Torrent Downloader & Music Player : 10,000,000+\n",
      "PowerDirector Video Editor App: 4K, Slow Mo & More : 10,000,000+\n",
      "Cartoon Network App : 10,000,000+\n",
      "Ustream : 10,000,000+\n",
      "Video Downloader - for Instagram Repost App : 10,000,000+\n",
      "HTC Service—Video Player : 5,000,000+\n",
      "Adobe Premiere Clip : 5,000,000+\n",
      "ActionDirector Video Editor - Edit Videos Fast : 5,000,000+\n",
      "WiFi Baby Monitor - NannyCam : 5,000,000+\n",
      "Video Editor : 5,000,000+\n",
      "Droid Zap by Motorola : 5,000,000+\n",
      "YouCut - Video Editor & Video Maker, No Watermark : 5,000,000+\n",
      "Video Editor,Crop Video,Movie Video,Music,Effects : 1,000,000+\n",
      "HD Movie Video Player : 1,000,000+\n",
      "DS video : 1,000,000+\n",
      "iSmart DV : 1,000,000+\n",
      "AndStream - Streaming Download : 1,000,000+\n",
      "Iqiyi (for tablet) : 1,000,000+\n",
      "Vuze Torrent Downloader : 1,000,000+\n",
      "XX HD Video downloader-Free Video Downloader : 1,000,000+\n",
      "Tencent Video - Supporting the whole network : 1,000,000+\n",
      "G Guide Program Guide (SOFTBANK EMOBILE WILLCOM version) : 1,000,000+\n",
      "BSPlayer ARMv7 VFP CPU support : 1,000,000+\n",
      "HD Video Download for Facebook : 1,000,000+\n",
      "AX Player -Nougat Video Player : 1,000,000+\n",
      "VUE: video editor & camcorder : 1,000,000+\n",
      "VPlayer : 1,000,000+\n",
      "OBJECTIVE : 1,000,000+\n",
      "VidPlay : 1,000,000+\n",
      "Video.Guru - Video Maker : 1,000,000+\n",
      "HD Video Player : 1,000,000+\n",
      "Play Tube : 1,000,000+\n",
      "Mobizen Screen Recorder for LG - Record, Capture : 1,000,000+\n",
      "DU Privacy-hide apps、sms、file : 1,000,000+\n",
      "BluTV : 1,000,000+\n",
      "Funny videos for whatsapp : 1,000,000+\n",
      "SVT Play : 1,000,000+\n",
      "DS photo : 1,000,000+\n",
      "EZCast – Cast Media to TV : 1,000,000+\n",
      "All Video Downloader 2018 : 1,000,000+\n",
      "Video Status : 1,000,000+\n",
      "Multiple Videos at Same Time : 1,000,000+\n",
      "iPlayIT for YouTube VR Player : 1,000,000+\n",
      "OnePlus Gallery : 1,000,000+\n",
      "video player : 1,000,000+\n",
      "Video Player All Format for Android : 500,000+\n",
      "GoPlus Cam : 500,000+\n",
      "DR TV : 500,000+\n",
      "CJ VLC HD Remote (+ Stream) : 500,000+\n",
      "Video Downloader for FB : Video Download with Link : 100,000+\n",
      "amazer - Global Kpop Video Community : 100,000+\n",
      "Ez Screen Recorder (no ad) : 100,000+\n",
      "Sketch 'n' go : 100,000+\n",
      "Nero AirBurn : 100,000+\n",
      "AB Repeat Player : 100,000+\n",
      "GoAction : 100,000+\n",
      "ES Audio Player ( Shortcut ) : 100,000+\n",
      "BGCN TV : 100,000+\n",
      "AW Screen Recorder No Root : 100,000+\n",
      "EZ Web Video Cast | Chromecast : 100,000+\n",
      "Free TV series : 100,000+\n",
      "ACTIVEON CX & CX GOLD : 50,000+\n",
      "bgtime.tv : 50,000+\n",
      "dv Prompter : 50,000+\n",
      "ES-IPTV : 50,000+\n",
      "AX Video Player : 50,000+\n",
      "BR Series : 50,000+\n",
      "ek tuhi : 10,000+\n",
      "HD VideoDownlaoder For Fb : XXVideo Downloader : 10,000+\n",
      "Casper Ssinema : 10,000+\n",
      "DG UPnP Player Free : 10,000+\n",
      "BK News Channel : 10,000+\n",
      "EZ TV Player : 10,000+\n",
      "BS player remote : 10,000+\n",
      "EZ-SEE : 10,000+\n",
      "DG Video Editor : 10,000+\n",
      "W Box VMS : 10,000+\n",
      "MelifeCam-M : 10,000+\n",
      "Downvids Helper - One touch DW : 10,000+\n",
      "EZ Usenet for Easynews® : 10,000+\n",
      "HD Video Player (wmv,avi,mp4,flv,av,mpg,mkv)2017 : 10,000+\n",
      "EML UPnP-AV Control Point : 10,000+\n",
      "Furrion ES Control : 5,000+\n",
      "Q-See Plus : 5,000+\n",
      "M-Sight Pro : 5,000+\n",
      "Videos downloader for Facebook:fast fb video saver : 5,000+\n",
      "EF Sidekick : 5,000+\n",
      "DV Lottery Photo : 5,000+\n",
      "DZ Popup Video Player : 5,000+\n",
      "BR Video Player : 5,000+\n",
      "4K VIDEO PLAYER ULTRA HD : 5,000+\n",
      "W Box VMS HD : 5,000+\n",
      "A-B repeater : 5,000+\n",
      "BG video - floating video - background video : 5,000+\n",
      "HD Video Player - Video & MP3 Player | AV Player | : 5,000+\n",
      "Ay : 5,000+\n",
      "CINE BR : 1,000+\n",
      "Music for Youtube - Tube Music BG, Red+ : 1,000+\n",
      "EZ game screen recorder with audio 1080P : 1,000+\n",
      "BC iptv player : 1,000+\n",
      "Ay Sabz Gunbad Waly : 1,000+\n",
      "BZ Langenthaler Tagblatt : 1,000+\n",
      "Movie Downloader Torrent : Az Torrent : 1,000+\n",
      "AV-IPTV : 1,000+\n",
      "Video Wallpaper Show : 500+\n",
      "CJ Camcorder : 500+\n",
      "DG Screen Recorder : 500+\n",
      "YourTube Video Views BG : 500+\n",
      "CX Monthly Tech News : 500+\n",
      "A-Z Screen Recorder - : 500+\n",
      "AJ Player : 100+\n",
      "Bx-WiFi-GI : 100+\n",
      "AK Lodi Films : 100+\n",
      "EC MANAGER : 100+\n",
      "BG MUSIC PLAYER - MUSIC PLAYER : 100+\n",
      "Bc Vod : 100+\n",
      "List iptv FR : 100+\n",
      "Art of F J Taylor : 10+\n",
      "CI Stream : 10+\n"
     ]
    }
   ],
   "source": [
    "comm_app_installs, float_str_pairs = get_gplay_installs_per_category(\"VIDEO_PLAYERS\")\n",
    "for p in comm_app_installs:\n",
    "    print(p[0], \":\", float_str_pairs[p[1]])"
   ]
  },
  {
   "cell_type": "markdown",
   "metadata": {},
   "source": [
    "For VIDEO it's the same, dominated by a few known ones. "
   ]
  },
  {
   "cell_type": "markdown",
   "metadata": {},
   "source": [
    "Let;s check BOOKS_AND_REFERENCES, to see how it fares compared to the App Store one."
   ]
  },
  {
   "cell_type": "code",
   "execution_count": 45,
   "metadata": {
    "collapsed": false
   },
   "outputs": [
    {
     "name": "stdout",
     "output_type": "stream",
     "text": [
      "Google Play Books : 1,000,000,000+\n",
      "Wattpad 📖 Free Books : 100,000,000+\n",
      "Bible : 100,000,000+\n",
      "Amazon Kindle : 100,000,000+\n",
      "Audiobooks from Audible : 100,000,000+\n",
      "Al'Quran Bahasa Indonesia : 10,000,000+\n",
      "Aldiko Book Reader : 10,000,000+\n",
      "JW Library : 10,000,000+\n",
      "Dictionary - Merriam-Webster : 10,000,000+\n",
      "Quran for Android : 10,000,000+\n",
      "Dictionary : 10,000,000+\n",
      "Oxford Dictionary of English : Free : 10,000,000+\n",
      "Wikipedia : 10,000,000+\n",
      "Moon+ Reader : 10,000,000+\n",
      "Al-Quran (Free) : 10,000,000+\n",
      "HTC Help : 10,000,000+\n",
      "Cool Reader : 10,000,000+\n",
      "NOOK: Read eBooks & Magazines : 10,000,000+\n",
      "FBReader: Favorite Book Reader : 10,000,000+\n",
      "English Hindi Dictionary : 10,000,000+\n",
      "Dictionary.com: Find Definitions for English Words : 10,000,000+\n",
      "Al Quran Indonesia : 10,000,000+\n",
      "English Dictionary - Offline : 10,000,000+\n",
      "Spanish English Translator : 10,000,000+\n",
      "Read books online : 5,000,000+\n",
      "AlReader -any text book reader : 5,000,000+\n",
      "Dictionary - WordWeb : 5,000,000+\n",
      "Bible KJV : 5,000,000+\n",
      "Ebook Reader : 5,000,000+\n",
      "Al Quran : EAlim - Translations & MP3 Offline : 5,000,000+\n",
      "English to Hindi Dictionary : 5,000,000+\n",
      "50000 Free eBooks & Free AudioBooks : 5,000,000+\n",
      "Ancestry : 5,000,000+\n",
      "Stats Royale for Clash Royale : 1,000,000+\n",
      "eBoox: book reader fb2 epub zip : 1,000,000+\n",
      "All Maths Formulas : 1,000,000+\n",
      "Hafizi Quran 15 lines per page : 1,000,000+\n",
      "My Little Pony AR Guide : 1,000,000+\n",
      "Cloud of Books : 1,000,000+\n",
      "Brilliant Quotes: Life, Love, Family & Motivation : 1,000,000+\n",
      "Golden Dictionary (EN-AR) : 1,000,000+\n",
      "Book store : 1,000,000+\n",
      "Oxford A-Z of English Usage : 1,000,000+\n",
      "Satellite AR : 1,000,000+\n",
      "English-Myanmar Dictionary : 1,000,000+\n",
      "EGW Writings : 1,000,000+\n",
      "FamilySearch Tree : 1,000,000+\n",
      "Free Books - Spirit Fanfiction and Stories : 1,000,000+\n",
      "wikiHow: how to do anything : 1,000,000+\n",
      "All Language Translator Free : 1,000,000+\n",
      "Koran Read &MP3 30 Juz Offline : 1,000,000+\n",
      "ReadEra – free ebook reader : 1,000,000+\n",
      "Al Quran Al karim : 1,000,000+\n",
      "Offline: English to Tagalog Dictionary : 500,000+\n",
      "English to Urdu Dictionary : 500,000+\n",
      "English Persian Dictionary : 500,000+\n",
      "Only 30 days in English, the guideline is guaranteed : 500,000+\n",
      "Al Quran (Tafsir & by Word) : 500,000+\n",
      "English Grammar Complete Handbook : 500,000+\n",
      "Golden Dictionary (FR-AR) : 500,000+\n",
      "Google I/O 2018 : 500,000+\n",
      "NOOK Audiobooks : 500,000+\n",
      "Al-Quran 30 Juz free copies : 500,000+\n",
      "Azpen eReader : 500,000+\n",
      "SDA Sabbath School Quarterly : 500,000+\n",
      "Flybook : 500,000+\n",
      "NOOK App for NOOK Devices : 500,000+\n",
      "Recipes of Prophetic Medicine for free : 500,000+\n",
      "Youboox - Livres, BD et magazines : 500,000+\n",
      "Offline English Dictionary : 100,000+\n",
      "V Made : 100,000+\n",
      "Surah Al-Waqiah : 100,000+\n",
      "Free Panda Radio Music : 100,000+\n",
      "English translation from Bengali : 100,000+\n",
      "Aab e Hayat Full Novel : 100,000+\n",
      "Litnet - E-books : 100,000+\n",
      "How to Write CV : 100,000+\n",
      "Guide (for X-MEN) : 100,000+\n",
      "Free Book Reader : 100,000+\n",
      "Download free book with green book : 100,000+\n",
      "EGW Writings 2 : 100,000+\n",
      "URBANO V 02 instruction manual : 100,000+\n",
      "Hymnes et Louanges : 100,000+\n",
      "Pdf Book Download - Read Pdf Book : 100,000+\n",
      "cloudLibrary : 100,000+\n",
      "Sabbath School : 100,000+\n",
      "Hisnul Al Muslim - Hisn Invocations & Adhkaar : 100,000+\n",
      "BakaReader EX : 100,000+\n",
      "Bible with EGW Comments : 100,000+\n",
      "E-Book Read - Read Book for free : 50,000+\n",
      "Bible du Semeur-BDS (French) : 50,000+\n",
      "C Programs and Reference : 50,000+\n",
      "Fertilizer Removal By Crop : 50,000+\n",
      "DV 2019 - EDV Photo & Form : 50,000+\n",
      "C Programs Handbook : 50,000+\n",
      "La citadelle du musulman : 50,000+\n",
      "Al-Muhaffiz : 50,000+\n",
      "SH-02J Owner's Manual (Android 8.0) : 50,000+\n",
      "eBoox new: Reader for fb2 epub zip books : 50,000+\n",
      "EZ Quran : 50,000+\n",
      "Guide for DB Xenoverse : 10,000+\n",
      "Kinot & Eichah for Tisha B'Av : 10,000+\n",
      "R Language Reference Guide : 10,000+\n",
      "Bootable Methods(USB-CD-DVD) : 10,000+\n",
      "Ag PhD Deficiencies : 10,000+\n",
      "Easy Cv maker 2018 : 10,000+\n",
      "Ag PhD Field Guide : 10,000+\n",
      "Ae Allah na Dai (Rasa) : 10,000+\n",
      "BD All Sim Offer : 10,000+\n",
      "BR Ambedkar Biography & Quotes : 10,000+\n",
      "Borneo Bible, BM Bible : 10,000+\n",
      "Guide for DB Xenoverse 2 : 10,000+\n",
      "AP Stamps and Registration : 10,000+\n",
      "TN Patta Citta & EC : 10,000+\n",
      "Ay Mohabbat Teri Khatir Novel : 10,000+\n",
      "DM Screen : 10,000+\n",
      "English To Shona Dictionary : 10,000+\n",
      "Bulgarian French Dictionary Fr : 10,000+\n",
      "Anonymous caller detection : 10,000+\n",
      "B&H Kids AR : 10,000+\n",
      "Ay Hasnain k Nana Milad Naat : 10,000+\n",
      "DV 2019 Entry Guide : 10,000+\n",
      "Kristian Hla Bu : 10,000+\n",
      "Duaa Ek Ibaadat : 5,000+\n",
      "Learn R Programming Full : 5,000+\n",
      "Learn CT Scan Of Head : 5,000+\n",
      "B y H Niños ES : 5,000+\n",
      "AC Air condition Troubleshoot,Repair,Maintenance : 5,000+\n",
      "EC - AP & Telangana : 5,000+\n",
      "AY Sing : 5,000+\n",
      "Browsery by Barnes & Noble : 5,000+\n",
      "CA Laws 2018 (California Laws and Codes) : 5,000+\n",
      "FA Part 1 & 2 Past Papers Solved Free – Offline : 5,000+\n",
      "AW Tozer Devotionals - Daily : 5,000+\n",
      "Bilingual Dictionary Audio App : 5,000+\n",
      "DC HSEMA : 5,000+\n",
      "Fanfic-FR : 5,000+\n",
      "D. H. Lawrence Poems FREE : 1,000+\n",
      "Ag PhD Planting Population Calculator : 1,000+\n",
      "DV 2018 Winners Guide : 1,000+\n",
      "bp e-store : 1,000+\n",
      "EB Annual Meetings : 1,000+\n",
      "Dr. Doug's Tips : 1,000+\n",
      "R Programing Offline Tutorial : 1,000+\n",
      "The SCP Foundation DB fr nn5n : 1,000+\n",
      "Fix Error Google Playstore : 1,000+\n",
      "R Quick Reference Big Data : 1,000+\n",
      "Tozer Devotional -Series 1 : 1,000+\n",
      "C Offline Tutorial : 1,000+\n",
      "EU Charter : 1,000+\n",
      "AE Bulletins : 1,000+\n",
      "The Pursuit of God : 1,000+\n",
      "Chemin (fr) : 1,000+\n",
      "Florida - Pocket Brainbook : 1,000+\n",
      "EU Data Protection : 1,000+\n",
      "La Fe de Jesus : 1,000+\n",
      "EP Research Service : 1,000+\n",
      "Florida Statutes (FL Code) : 1,000+\n",
      "Ag PhD Soybean Diseases : 1,000+\n",
      "DC Public Library : 1,000+\n",
      "Arizona Statutes, ARS (AZ Law) : 1,000+\n",
      "Painting Lulu DC Super Friends : 1,000+\n",
      "BD Fishpedia : 1,000+\n",
      "SA HLA BU : 1,000+\n",
      "CW Nuclear : 1,000+\n",
      "BM Box : 1,000+\n",
      "Greek Bible FP (Audio) : 1,000+\n",
      "Le Fe de Jesus : 500+\n",
      "Catholic La Bu Zo Kam : 500+\n",
      "SDA Collegiate Quarterly : 500+\n",
      "Modlitební knížka CZ : 500+\n",
      "Learn SAP BW on HANA : 500+\n",
      "La Fe de Jesús : 500+\n",
      "Learn SAP BW : 500+\n",
      "CompactiMa EC pH Calibration : 100+\n",
      "MOD Black for BM : 100+\n",
      "BU Alsace : 100+\n",
      "EU IP Codes : 100+\n",
      "Cypress College Library : 100+\n",
      "Anime Mod for BM : 100+\n",
      "A-J Media Vault : 50+\n",
      "GATE 21 years CS Papers(2011-2018 Solved) : 50+\n",
      "Khrifa Hla Bu (Solfa) : 10+\n",
      "CY Spray nozzle : 10+\n",
      "Learn R Programming : 10+\n",
      "Guide for IMS DB : 10+\n",
      "BibleRead En Cy Zh Yue : 5+\n",
      "EW PDF : 5+\n",
      "CZ-Help : 5+\n",
      "Guide for R Programming : 5+\n"
     ]
    }
   ],
   "source": [
    "comm_app_installs, float_str_pairs = get_gplay_installs_per_category(\"BOOKS_AND_REFERENCE\")\n",
    "for p in comm_app_installs:\n",
    "    print(p[0], \":\", float_str_pairs[p[1]])"
   ]
  },
  {
   "cell_type": "markdown",
   "metadata": {},
   "source": [
    "There are a lot of ebook readers and ebook sellers ( Google Play Books ,  Amazon Kindle, etc) , lots of dictionaries .\n",
    "\n",
    "But as with the App Store case, it might be possbile to build an app around a new popular book, preferably from a self published/new author, again with the option of adding gamification and / or AR to make it more immers"
   ]
  }
 ],
 "metadata": {
  "kernelspec": {
   "display_name": "Python 3",
   "language": "python",
   "name": "python3"
  },
  "language_info": {
   "codemirror_mode": {
    "name": "ipython",
    "version": 3
   },
   "file_extension": ".py",
   "mimetype": "text/x-python",
   "name": "python",
   "nbconvert_exporter": "python",
   "pygments_lexer": "ipython3",
   "version": "3.4.3"
  }
 },
 "nbformat": 4,
 "nbformat_minor": 2
}
